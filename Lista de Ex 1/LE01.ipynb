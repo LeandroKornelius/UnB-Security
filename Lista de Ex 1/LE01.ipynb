{
 "cells": [
  {
   "cell_type": "markdown",
   "source": [
    "# Exercício 1 - Quebrando Shift Cipher\n",
    "\n",
    "## Instruções:\n",
    "\n",
    "- Elaborar os códigos para realizar a cifra por deslocamento e a respectiva\n",
    "decifração (dica: validar para cifra de César onde k=3);\n",
    "- Elaborar os códigos que quebram a cifra por deslocamento, através de duas\n",
    "estratégias de ataques à cifra (CipherText-only):\n",
    "    - o por ataque de força bruta;\n",
    "    - o por distribuição de frequência;\n",
    "\n",
    "Descrever a viabilidade das estratégias, comparar a complexidade dos algoritmos e\n",
    "tempo de execução, onde cada técnica seria melhor aplicada etc.\n",
    "\n",
    "Utilizar a distribuição de frequência da língua portuguesa:\n",
    "https://www.dcc.fc.up.pt/~rvr/naulas/tabelasPT/\n",
    "\n",
    "## Contextualização:\n",
    "\n",
    "A criptografia é a prática de desenvolver e usar algoritmos para proteger e obscurer informações. Normalmente envolver transformar textos legíveis em textos cifrados, ou que estão em formato ilegível usando uma chave.\n",
    "\n",
    "Nesse sentido, como estaremos lidando com uma \"Shift Cipher\" que é uma criptografia simétrica, ou seja o remetente e destinatário possuem a mesma chave para criptografar e descriptografar, devemos ter os seguintes componentes:\n",
    "- Geração da chave privada - Gen -> K\n",
    "- Encriptação da mensagem M - EncK(M)\n",
    "- Decriptação da mensagem cifrada C - M = DecK(C)\n",
    "\n",
    "## Implementação:\n",
    "\n",
    "### Cifra por Deslocamento\n",
    "\n",
    "Sabendo que as \"Shift Cipher\" tratam letras como inteiros, iniciaremos a implementação declarando um dicionário que mapeia o inteiro à letra correspondente no alfabeto:"
   ],
   "metadata": {
    "collapsed": false
   }
  },
  {
   "cell_type": "code",
   "execution_count": 41,
   "outputs": [],
   "source": [
    "letters = {\n",
    "   0: 'a', 1: 'b', 2: 'c', 3: 'd', 4: 'e',\n",
    "    5: 'f', 6: 'g', 7: 'h', 8: 'i', 9: 'j',\n",
    "    10: 'k', 11: 'l', 12: 'm', 13: 'n', 14: 'o',\n",
    "    15: 'p', 16: 'q', 17: 'r', 18: 's', 19: 't',\n",
    "    20: 'u', 21: 'v', 22: 'w', 23: 'x', 24: 'y',\n",
    "    25: 'z'\n",
    "}"
   ],
   "metadata": {
    "collapsed": false,
    "ExecuteTime": {
     "end_time": "2025-04-16T04:13:40.904941Z",
     "start_time": "2025-04-16T04:13:40.883006800Z"
    }
   }
  },
  {
   "cell_type": "markdown",
   "source": [
    "Em seguida, faz-se necessário realizar a função de Encriptação que deve transformar uma mensagem legível \"M\" em um texto cifrado \"C\" através de uma chave privada."
   ],
   "metadata": {
    "collapsed": false
   }
  },
  {
   "cell_type": "code",
   "execution_count": 42,
   "outputs": [],
   "source": [
    "def enc(m, k):\n",
    " print(f'Message being Encrypted: {m}')\n",
    " c = ''\n",
    " for char in m:\n",
    "  for num, letter in letters.items():\n",
    "   if char == letter:\n",
    "    print(f'The character {char} is being encrypted to {letters[(num + k) % 26]}')\n",
    "    c += letters[(num + k) % 26]\n",
    " print(f'Message Encrypted: {c}')\n",
    " return c"
   ],
   "metadata": {
    "collapsed": false,
    "ExecuteTime": {
     "end_time": "2025-04-16T04:13:40.906037200Z",
     "start_time": "2025-04-16T04:13:40.889358500Z"
    }
   }
  },
  {
   "cell_type": "markdown",
   "source": [
    "No código acima, foi usado o resto da divisão por 26, pois ao somar o inteiro com o valor da chave privada, é possível obter um inteiro que não tenha uma letra correspondente no alfabeto, portanto devemos voltar às primeiras letras. Os prints do código servem para verificar se a função está funcionando propriamente e gerando a cifra. Para exemplicar o funcionamento, iremos validar para a cifra de César onde k=3."
   ],
   "metadata": {
    "collapsed": false
   }
  },
  {
   "cell_type": "code",
   "execution_count": 43,
   "outputs": [
    {
     "name": "stdout",
     "output_type": "stream",
     "text": [
      "Message being Encrypted: abcdefghijklmnopqrstuvwxyz\n",
      "The character a is being encrypted to d\n",
      "The character b is being encrypted to e\n",
      "The character c is being encrypted to f\n",
      "The character d is being encrypted to g\n",
      "The character e is being encrypted to h\n",
      "The character f is being encrypted to i\n",
      "The character g is being encrypted to j\n",
      "The character h is being encrypted to k\n",
      "The character i is being encrypted to l\n",
      "The character j is being encrypted to m\n",
      "The character k is being encrypted to n\n",
      "The character l is being encrypted to o\n",
      "The character m is being encrypted to p\n",
      "The character n is being encrypted to q\n",
      "The character o is being encrypted to r\n",
      "The character p is being encrypted to s\n",
      "The character q is being encrypted to t\n",
      "The character r is being encrypted to u\n",
      "The character s is being encrypted to v\n",
      "The character t is being encrypted to w\n",
      "The character u is being encrypted to x\n",
      "The character v is being encrypted to y\n",
      "The character w is being encrypted to z\n",
      "The character x is being encrypted to a\n",
      "The character y is being encrypted to b\n",
      "The character z is being encrypted to c\n",
      "Message Encrypted: defghijklmnopqrstuvwxyzabc\n",
      "defghijklmnopqrstuvwxyzabc\n",
      "Message being Encrypted: cifradecesar\n",
      "The character c is being encrypted to f\n",
      "The character i is being encrypted to l\n",
      "The character f is being encrypted to i\n",
      "The character r is being encrypted to u\n",
      "The character a is being encrypted to d\n",
      "The character d is being encrypted to g\n",
      "The character e is being encrypted to h\n",
      "The character c is being encrypted to f\n",
      "The character e is being encrypted to h\n",
      "The character s is being encrypted to v\n",
      "The character a is being encrypted to d\n",
      "The character r is being encrypted to u\n",
      "Message Encrypted: fliudghfhvdu\n",
      "fliudghfhvdu\n"
     ]
    }
   ],
   "source": [
    "print(enc(\"abcdefghijklmnopqrstuvwxyz\", 3))\n",
    "print(enc(\"cifradecesar\", 3))"
   ],
   "metadata": {
    "collapsed": false,
    "ExecuteTime": {
     "end_time": "2025-04-16T04:13:40.907363900Z",
     "start_time": "2025-04-16T04:13:40.893063Z"
    }
   }
  },
  {
   "cell_type": "markdown",
   "source": [
    "Assim, observa-se que a função está tendo o comportamento esperado. Entretanto, problemas com caracteres não previstos no dicionário de \"letters\" podem acarretar em comportamentos não esperados, mas visto que na distribuição de frequência da la língua portuguesa fornecida nas instruções não inclui outras letras a implementação irá funcionar para estes casos.\n",
    "\n",
    "Agora, faz necessário fazer o processo contrário. Ou seja, a decriptação onde a partir de uma mensagem ilegível obtemos a mensagem legível usando a chave privada."
   ],
   "metadata": {
    "collapsed": false
   }
  },
  {
   "cell_type": "code",
   "execution_count": 44,
   "outputs": [],
   "source": [
    "def dec(c, k):\n",
    " print(f'Cipher being Decrypted: {c}')\n",
    " m = ''\n",
    " for char in c:\n",
    "  for num, letter in letters.items():\n",
    "   if char == letter:\n",
    "    print(f'The character {char} is being decrypted back to {letters[(num - k) % 26]}')\n",
    "    m += letters[(num - k) % 26]\n",
    " print(f'Cipher Decrypted: {m}')\n",
    " return m"
   ],
   "metadata": {
    "collapsed": false,
    "ExecuteTime": {
     "end_time": "2025-04-16T04:13:40.942936700Z",
     "start_time": "2025-04-16T04:13:40.899798600Z"
    }
   }
  },
  {
   "cell_type": "markdown",
   "source": [
    "No código acima, foi usado a subtração pela chave para assim retornar à letra da mensagem. O uso do resto da divisão é análogo na função \"enc\" em função da quantidade de letras no dicionário. Para verificar o funcionamento desta função, veremos se ao usar o resultado da função de \"enc\" como cifra na função de \"dec\" se obteremos a mesma mensagem. Para ambas funções a chave deve ser a mesma e novamente usaremos a cifra de César em que k=3."
   ],
   "metadata": {
    "collapsed": false
   }
  },
  {
   "cell_type": "code",
   "execution_count": 45,
   "outputs": [
    {
     "name": "stdout",
     "output_type": "stream",
     "text": [
      "Message being Encrypted: abcdefghijklmnopqrstuvwxyz\n",
      "The character a is being encrypted to d\n",
      "The character b is being encrypted to e\n",
      "The character c is being encrypted to f\n",
      "The character d is being encrypted to g\n",
      "The character e is being encrypted to h\n",
      "The character f is being encrypted to i\n",
      "The character g is being encrypted to j\n",
      "The character h is being encrypted to k\n",
      "The character i is being encrypted to l\n",
      "The character j is being encrypted to m\n",
      "The character k is being encrypted to n\n",
      "The character l is being encrypted to o\n",
      "The character m is being encrypted to p\n",
      "The character n is being encrypted to q\n",
      "The character o is being encrypted to r\n",
      "The character p is being encrypted to s\n",
      "The character q is being encrypted to t\n",
      "The character r is being encrypted to u\n",
      "The character s is being encrypted to v\n",
      "The character t is being encrypted to w\n",
      "The character u is being encrypted to x\n",
      "The character v is being encrypted to y\n",
      "The character w is being encrypted to z\n",
      "The character x is being encrypted to a\n",
      "The character y is being encrypted to b\n",
      "The character z is being encrypted to c\n",
      "Message Encrypted: defghijklmnopqrstuvwxyzabc\n",
      "Cipher being Decrypted: defghijklmnopqrstuvwxyzabc\n",
      "The character d is being decrypted back to a\n",
      "The character e is being decrypted back to b\n",
      "The character f is being decrypted back to c\n",
      "The character g is being decrypted back to d\n",
      "The character h is being decrypted back to e\n",
      "The character i is being decrypted back to f\n",
      "The character j is being decrypted back to g\n",
      "The character k is being decrypted back to h\n",
      "The character l is being decrypted back to i\n",
      "The character m is being decrypted back to j\n",
      "The character n is being decrypted back to k\n",
      "The character o is being decrypted back to l\n",
      "The character p is being decrypted back to m\n",
      "The character q is being decrypted back to n\n",
      "The character r is being decrypted back to o\n",
      "The character s is being decrypted back to p\n",
      "The character t is being decrypted back to q\n",
      "The character u is being decrypted back to r\n",
      "The character v is being decrypted back to s\n",
      "The character w is being decrypted back to t\n",
      "The character x is being decrypted back to u\n",
      "The character y is being decrypted back to v\n",
      "The character z is being decrypted back to w\n",
      "The character a is being decrypted back to x\n",
      "The character b is being decrypted back to y\n",
      "The character c is being decrypted back to z\n",
      "Cipher Decrypted: abcdefghijklmnopqrstuvwxyz\n",
      "abcdefghijklmnopqrstuvwxyz\n",
      "Message being Encrypted: cifradecesar\n",
      "The character c is being encrypted to f\n",
      "The character i is being encrypted to l\n",
      "The character f is being encrypted to i\n",
      "The character r is being encrypted to u\n",
      "The character a is being encrypted to d\n",
      "The character d is being encrypted to g\n",
      "The character e is being encrypted to h\n",
      "The character c is being encrypted to f\n",
      "The character e is being encrypted to h\n",
      "The character s is being encrypted to v\n",
      "The character a is being encrypted to d\n",
      "The character r is being encrypted to u\n",
      "Message Encrypted: fliudghfhvdu\n",
      "Cipher being Decrypted: fliudghfhvdu\n",
      "The character f is being decrypted back to c\n",
      "The character l is being decrypted back to i\n",
      "The character i is being decrypted back to f\n",
      "The character u is being decrypted back to r\n",
      "The character d is being decrypted back to a\n",
      "The character g is being decrypted back to d\n",
      "The character h is being decrypted back to e\n",
      "The character f is being decrypted back to c\n",
      "The character h is being decrypted back to e\n",
      "The character v is being decrypted back to s\n",
      "The character d is being decrypted back to a\n",
      "The character u is being decrypted back to r\n",
      "Cipher Decrypted: cifradecesar\n",
      "cifradecesar\n"
     ]
    }
   ],
   "source": [
    "print(dec(enc(\"abcdefghijklmnopqrstuvwxyz\", 3), 3))\n",
    "print(dec(enc(\"cifradecesar\", 3), 3))"
   ],
   "metadata": {
    "collapsed": false,
    "ExecuteTime": {
     "end_time": "2025-04-16T04:13:40.942936700Z",
     "start_time": "2025-04-16T04:13:40.906856600Z"
    }
   }
  },
  {
   "cell_type": "markdown",
   "source": [
    "### Ataque por Força Bruta\n",
    "\n",
    "Os ataques de segurança buscam achar informações sobre a mensagem legível e/ou a chave. Sob essa ótica, o ataque por Força Bruta consiste em testar todas chaves possíveis até obter tradução inteligível para o texto claro. Suponhamos que o \"hacker\" saiba que a mensagem foi originada no Brasil, portanto terá os mesmos caractéres do alfabeto da variável já definida acima."
   ],
   "metadata": {
    "collapsed": false
   }
  },
  {
   "cell_type": "code",
   "execution_count": 46,
   "outputs": [],
   "source": [
    "def brute_force_attack(c):\n",
    " print(\"Testing all possible keys:\")\n",
    " possible_messages = []\n",
    " for k in range(len(letters)):\n",
    "  attempted_message = \"\"\n",
    "  for char in c:\n",
    "   for num, letter in letters.items():\n",
    "    if char == letter:\n",
    "     attempted_message += letters[(num - k) % len(letters)]\n",
    "  print(f'Attempted K = {k}: {attempted_message}')\n",
    "  possible_messages.append(attempted_message)\n",
    " correct_key = int(input('Type the key that has a readable message: '))\n",
    " if correct_key in range(len(letters)):\n",
    "  return possible_messages[correct_key]"
   ],
   "metadata": {
    "collapsed": false,
    "ExecuteTime": {
     "end_time": "2025-04-16T04:13:40.942936700Z",
     "start_time": "2025-04-16T04:13:40.909371900Z"
    }
   }
  },
  {
   "cell_type": "markdown",
   "source": [
    "No código acima, é usado como parâmetro o texto cifrado que é o que vamos tentar traduzir de volta para uma mensagem legível através do teste de todas as possibilidades. Nesse sentido, as possíveis chaves são a quantidade de letras possíveis. Assim, devemos testar todas estas chaves até conseguirmos compreender o que está escrito. Quando isso ocorrer, significa que encontramos a mensagem. Vamos testar o ataque através de mensagem encriptada abaixo:"
   ],
   "metadata": {
    "collapsed": false
   }
  },
  {
   "cell_type": "code",
   "execution_count": 47,
   "outputs": [
    {
     "name": "stdout",
     "output_type": "stream",
     "text": [
      "Message being Encrypted: cifradecesar\n",
      "The character c is being encrypted to i\n",
      "The character i is being encrypted to o\n",
      "The character f is being encrypted to l\n",
      "The character r is being encrypted to x\n",
      "The character a is being encrypted to g\n",
      "The character d is being encrypted to j\n",
      "The character e is being encrypted to k\n",
      "The character c is being encrypted to i\n",
      "The character e is being encrypted to k\n",
      "The character s is being encrypted to y\n",
      "The character a is being encrypted to g\n",
      "The character r is being encrypted to x\n",
      "Message Encrypted: iolxgjkikygx\n",
      "The cryted message is: iolxgjkikygx\n",
      "Testing all possible keys:\n",
      "Attempted K = 0: iolxgjkikygx\n",
      "Attempted K = 1: hnkwfijhjxfw\n",
      "Attempted K = 2: gmjvehigiwev\n",
      "Attempted K = 3: fliudghfhvdu\n",
      "Attempted K = 4: ekhtcfgeguct\n",
      "Attempted K = 5: djgsbefdftbs\n",
      "Attempted K = 6: cifradecesar\n",
      "Attempted K = 7: bheqzcdbdrzq\n",
      "Attempted K = 8: agdpybcacqyp\n",
      "Attempted K = 9: zfcoxabzbpxo\n",
      "Attempted K = 10: yebnwzayaown\n",
      "Attempted K = 11: xdamvyzxznvm\n",
      "Attempted K = 12: wczluxywymul\n",
      "Attempted K = 13: vbyktwxvxltk\n",
      "Attempted K = 14: uaxjsvwuwksj\n",
      "Attempted K = 15: tzwiruvtvjri\n",
      "Attempted K = 16: syvhqtusuiqh\n",
      "Attempted K = 17: rxugpstrthpg\n",
      "Attempted K = 18: qwtforsqsgof\n",
      "Attempted K = 19: pvsenqrprfne\n",
      "Attempted K = 20: ourdmpqoqemd\n",
      "Attempted K = 21: ntqclopnpdlc\n",
      "Attempted K = 22: mspbknomockb\n",
      "Attempted K = 23: lroajmnlnbja\n",
      "Attempted K = 24: kqnzilmkmaiz\n",
      "Attempted K = 25: jpmyhkljlzhy\n",
      "The message obtained by the brute force attack is: cifradecesar\n"
     ]
    }
   ],
   "source": [
    "c = enc('cifradecesar', 6)\n",
    "print(f'The cryted message is: {c}')\n",
    "\n",
    "print(f'The message obtained by the brute force attack is: {brute_force_attack(c)}')"
   ],
   "metadata": {
    "collapsed": false,
    "ExecuteTime": {
     "end_time": "2025-04-16T04:13:42.681847600Z",
     "start_time": "2025-04-16T04:13:40.916952200Z"
    }
   }
  }
 ],
 "metadata": {
  "kernelspec": {
   "display_name": "Python 3",
   "language": "python",
   "name": "python3"
  },
  "language_info": {
   "codemirror_mode": {
    "name": "ipython",
    "version": 2
   },
   "file_extension": ".py",
   "mimetype": "text/x-python",
   "name": "python",
   "nbconvert_exporter": "python",
   "pygments_lexer": "ipython2",
   "version": "2.7.6"
  }
 },
 "nbformat": 4,
 "nbformat_minor": 0
}
