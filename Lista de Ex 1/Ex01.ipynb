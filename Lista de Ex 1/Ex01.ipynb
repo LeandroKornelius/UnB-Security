{
 "cells": [
  {
   "cell_type": "markdown",
   "source": [
    "# Exercício 1 - Quebrando Shift Cipher\n",
    "\n",
    "## Instruções:\n",
    "\n",
    "- Elaborar os códigos para realizar a cifra por deslocamento e a respectiva\n",
    "decifração (dica: validar para cifra de César onde k=3);\n",
    "- Elaborar os códigos que quebram a cifra por deslocamento, através de duas\n",
    "estratégias de ataques à cifra (CipherText-only):\n",
    "    - o por ataque de força bruta;\n",
    "    - o por distribuição de frequência;\n",
    "\n",
    "Descrever a viabilidade das estratégias, comparar a complexidade dos algoritmos e\n",
    "tempo de execução, onde cada técnica seria melhor aplicada etc.\n",
    "\n",
    "Utilizar a distribuição de frequência da língua portuguesa:\n",
    "https://www.dcc.fc.up.pt/~rvr/naulas/tabelasPT/\n",
    "\n",
    "## Contextualização:\n",
    "\n",
    "A criptografia é a prática de desenvolver e usar algoritmos para proteger e obscurer informações. Normalmente envolver transformar textos legíveis em textos cifrados, ou que estão em formato ilegível usando uma chave.\n",
    "\n",
    "Nesse sentido, como estaremos lidando com uma \"Shift Cipher\" que é uma criptografia simétrica, ou seja o remetente e destinatário possuem a mesma chave para criptografar e descriptografar, devemos ter os seguintes componentes:\n",
    "- Geração da chave privada - Gen -> K\n",
    "- Encriptação da mensagem M - EncK(M)\n",
    "- Decriptação da mensagem cifrada C - M = DecK(C)\n",
    "\n",
    "## Implementação:\n",
    "\n",
    "### Cifra por Deslocamento\n",
    "\n",
    "Sabendo que as \"Shift Cipher\" tratam letras como inteiros, iniciaremos a implementação declarando um dicionário que mapeia o inteiro à letra correspondente no alfabeto:"
   ],
   "metadata": {
    "collapsed": false
   }
  },
  {
   "cell_type": "code",
   "execution_count": null,
   "outputs": [],
   "source": [
    "letters = {\n",
    "   0: 'a', 1: 'b', 2: 'c', 3: 'd', 4: 'e',\n",
    "    5: 'f', 6: 'g', 7: 'h', 8: 'i', 9: 'j',\n",
    "    10: 'k', 11: 'l', 12: 'm', 13: 'n', 14: 'o',\n",
    "    15: 'p', 16: 'q', 17: 'r', 18: 's', 19: 't',\n",
    "    20: 'u', 21: 'v', 22: 'w', 23: 'x', 24: 'y',\n",
    "    25: 'z'\n",
    "}"
   ],
   "metadata": {
    "collapsed": false
   }
  },
  {
   "cell_type": "markdown",
   "source": [
    "Em seguida, faz-se necessário realizar a função de Encriptação que deve transformar uma mensagem legível \"M\" em um texto cifrado \"C\" através de uma chave privada."
   ],
   "metadata": {
    "collapsed": false
   }
  },
  {
   "cell_type": "code",
   "execution_count": null,
   "outputs": [],
   "source": [
    "def enc(m, k):\n",
    " m = m.lower()\n",
    " print(f'Message being encrypted: {m}')\n",
    " c = ''\n",
    " for char in m:\n",
    "  if char in letters.values():\n",
    "   for num, letter in letters.items():\n",
    "    if char == letter:\n",
    "     c += letters[(num + k) % len(letters)]\n",
    "  else:\n",
    "   c += char\n",
    " print(f'Message encrypted: {c}\\n')\n",
    " return c"
   ],
   "metadata": {
    "collapsed": false
   }
  },
  {
   "cell_type": "markdown",
   "source": [
    "Portanto, o código acima inicia deixando todos os caractéres minúsculos para não haver diferenciação no tratamento. Começaremos verificando cada caractér da mensagem a ser criptografada. Caso não esteja no dicionário das letras do alfabeto português, nós podemos mantê-la como está. Caso contrário, é necessário realizar o deslocamento com base na chave recebida na função. Tal deslocamento é feito através do resto da divisão pela quantidade de caractéres presente no alfabeto. Nesse sentido, caso a chave supere a quantidade de letras no alfabeto, será possível obter um inteiro que esteja nas chaves do dicionário. Por fim, para validar o funcionamento da função, foi verificado para dois cenários, a Cifra de César e outro valor para K, como implementado abaixo:"
   ],
   "metadata": {
    "collapsed": false
   }
  },
  {
   "cell_type": "code",
   "execution_count": null,
   "outputs": [],
   "source": [
    "caesar_test_one = 'abcdefghijklmnopqrstuvwxyz'\n",
    "caesar_test_two = 'cifradecesar'\n",
    "\n",
    "# First paragraph of the Harry Potter book\n",
    "\n",
    "shift_cipher_test_one = 'O Sr. e a Sra. Dursley, da Rua dos Alfeneiros, nº. 4, se orgulhavam de dizer que eram perfeitamente normais, muito bem, obrigado. Eram as últimas pessoas no mundo que se esperaria que se metessem em alguma coisa estranha ou misteriosa, porque simplesmente não compactuavam com esse tipo debobagem.'\n",
    "\n",
    "# Encode test for Caesar in which K = 3\n",
    "\n",
    "caesar_test_one_enc = enc(caesar_test_one, 3)\n",
    "caesar_test_two_enc = enc(caesar_test_two, 3)\n",
    "\n",
    "# Another test with a longer text and a different K = 8 for example\n",
    "\n",
    "shift_cipher_test_one_enc = enc(shift_cipher_test_one, 8)"
   ],
   "metadata": {
    "collapsed": false
   }
  },
  {
   "cell_type": "markdown",
   "source": [
    "Assim, observa-se que a função está tendo o comportamento esperado. Ademais, caractéres que não estão previstos nas letras estão sendo tratados não realizando o deslocamento, os deixando iguais.\n",
    "\n",
    "Agora, faz necessário fazer o processo contrário. Ou seja, a decriptação onde a partir de uma mensagem ilegível obtemos a mensagem legível usando a chave privada."
   ],
   "metadata": {
    "collapsed": false
   }
  },
  {
   "cell_type": "code",
   "execution_count": null,
   "outputs": [],
   "source": [
    "def dec(c, k):\n",
    " c = c.lower()\n",
    " print(f'Cipher being decrypted: {c}')\n",
    " m = ''\n",
    " for char in c:\n",
    "  if char in letters.values():\n",
    "   for num, letter in letters.items():\n",
    "    if char == letter:\n",
    "     m += letters[(num - k) % len(letters)]\n",
    "  else:\n",
    "   m += char\n",
    " print(f'Cipher decrypted: {m}\\n')\n",
    " return m"
   ],
   "metadata": {
    "collapsed": false
   }
  },
  {
   "cell_type": "markdown",
   "source": [
    "No código acima, foi usado a subtração pela chave para assim retornar à letra da mensagem. O uso do resto da divisão é análogo na função \"enc\" em função da quantidade de letras no dicionário. Para verificar o funcionamento desta função, veremos se ao usar o resultado da função de \"enc\" como cifra na função de \"dec\" se obteremos a mesma mensagem. Novamente, faremos os testes desta função com os resultados obtidos pela função de encrypt. Com isso, observa-se que os resultados retornam o texto criptografado para a mensagem legível."
   ],
   "metadata": {
    "collapsed": false
   }
  },
  {
   "cell_type": "code",
   "execution_count": null,
   "outputs": [],
   "source": [
    "# Decrypt test for Caesar tests in which K = 3\n",
    "dec(caesar_test_one_enc, 3)\n",
    "dec(caesar_test_two_enc, 3)\n",
    "\n",
    "# Another test with a longer text and a different K = 8 for example\n",
    "dec(shift_cipher_test_one_enc, 8)"
   ],
   "metadata": {
    "collapsed": false
   }
  },
  {
   "cell_type": "markdown",
   "source": [
    "### Ataque por Força Bruta\n",
    "\n",
    "Os ataques de segurança buscam achar informações sobre a mensagem legível e/ou a chave. Sob essa ótica, o ataque por Força Bruta consiste em testar todas chaves possíveis até obter tradução inteligível para o texto claro. Suponhamos que o \"hacker\" saiba que a mensagem foi originada no Brasil, portanto terá os mesmos caractéres do alfabeto da variável já definida acima."
   ],
   "metadata": {
    "collapsed": false
   }
  },
  {
   "cell_type": "code",
   "execution_count": null,
   "outputs": [],
   "source": [
    "def brute_force_attack(c):\n",
    " c = c.lower()\n",
    " print(\"Testing all possible keys:\")\n",
    " possible_messages = []\n",
    " for k in range(len(letters)):\n",
    "  attempted_message = dec(c, k)\n",
    "  possible_messages.append(attempted_message)\n",
    " return possible_messages"
   ],
   "metadata": {
    "collapsed": false
   }
  },
  {
   "cell_type": "markdown",
   "source": [
    "No código acima, é usado como parâmetro o texto cifrado que é o que vamos tentar traduzir de volta para uma mensagem legível através do teste de todas as possibilidades. Nesse sentido, as possíveis chaves são a quantidade de letras possíveis. Assim, devemos testar todas estas chaves até conseguirmos compreender o que está escrito. Quando isso ocorrer, significa que encontramos a mensagem. Vamos testar o ataque através de mensagem encriptada abaixo:"
   ],
   "metadata": {
    "collapsed": false
   }
  },
  {
   "cell_type": "code",
   "execution_count": null,
   "outputs": [],
   "source": [
    "brute_force_attack(shift_cipher_test_one_enc)"
   ],
   "metadata": {
    "collapsed": false
   }
  },
  {
   "cell_type": "markdown",
   "source": [
    "### Ataque por Distribuição de Frequência\n",
    "\n",
    "Este ataque conta a frequência das letras cifradas e compara com a típica usada no português. Em seguida, usam esta frequência para ajustar o deslocamento até que a frequência do texto cifrado se alinhe com a frequência esperada. Assim, será possível descobrir a mensagem e traduzir o texto criptografado para algo legível. Para isso, iremos usar a distribuição de frequência apresentada nas intruções: https://www.dcc.fc.up.pt/~rvr/naulas/tabelasPT/"
   ],
   "metadata": {
    "collapsed": false
   }
  },
  {
   "cell_type": "code",
   "execution_count": null,
   "outputs": [],
   "source": [
    "port_char_frequency = {\n",
    " 'a': 13.9, 'b': 1, 'c': 4.4, 'd': 5.4, 'e': 12.2,\n",
    " 'f': 1, 'g': 1.2, 'h': 0.8, 'i': 6.9, 'j': 0.4,\n",
    " 'k': 0.1, 'l': 2.8, 'm': 4.2, 'n': 5.3, 'o': 10.8,\n",
    " 'p': 2.9, 'q': 0.9, 'r': 6.9, 's': 7.9, 't': 4.9,\n",
    " 'u': 4.0, 'v': 1.3, 'w': 0.0, 'x': 0.3, 'y': 0.0,\n",
    " 'z': 0.4\n",
    "}"
   ],
   "metadata": {
    "collapsed": false
   }
  },
  {
   "cell_type": "markdown",
   "source": [
    "Vamos iniciar fazendo uma função que realiza a distribuição de frequência para o texto cifrado deixando para cada caracter o seu percentual de aparecimento no texto cifrado. Ou seja, este dicionário terá a mesma estrutura do definido anteriormente"
   ],
   "metadata": {
    "collapsed": false
   }
  },
  {
   "cell_type": "code",
   "execution_count": null,
   "outputs": [],
   "source": [
    "def text_frequency(t):\n",
    " t = t.lower()\n",
    " cipher_char_frequency = {}\n",
    "\n",
    " for char in letters.values():\n",
    "  cipher_char_frequency[char] = 0\n",
    "\n",
    " # Count occurences of chars\n",
    " for char in t:\n",
    "  if char in letters.values():\n",
    "   cipher_char_frequency[char] += 1\n",
    "\n",
    " # Converts to percentage\n",
    " total_chars = sum(cipher_char_frequency.values())\n",
    " for char in cipher_char_frequency:\n",
    "  cipher_char_frequency[char] = (cipher_char_frequency[char] / total_chars) * 100\n",
    "\n",
    " return cipher_char_frequency"
   ],
   "metadata": {
    "collapsed": false
   }
  },
  {
   "cell_type": "markdown",
   "source": [
    "Assim, agora temos dois dicionários com as frequências dos caractéres. Dessa forma, poderemos usar a diferença entre as duas frequências para descobrir o deslocamento. Iniciaremos esta lógica definindo uma nova função a qual irá medir esta diferença entre as duas frequências, a do texto cifrado e da língua portuguesa."
   ],
   "metadata": {
    "collapsed": false
   }
  },
  {
   "cell_type": "code",
   "execution_count": null,
   "outputs": [],
   "source": [
    "def frequency_score(frequency_one, frequency_two):\n",
    " return sum((frequency_one.get(char, 0) - frequency_two.get(char, 0)) ** 2 for char in frequency_one)"
   ],
   "metadata": {
    "collapsed": false
   }
  },
  {
   "cell_type": "markdown",
   "source": [
    "Agora, poderemos implementar a quebra por distribuição de frequência, pois poderemos medir qual das chaves mais se aproxima da distribuição de frequência do alfabeto português. Ao invés de passarmos por todas as chaves, poderíamos usar apenas o caracter mais presente ou um conjunto deles. Entretanto, poderia haver mais erros a depender da mensagem a ser descoberta."
   ],
   "metadata": {
    "collapsed": false
   }
  },
  {
   "cell_type": "code",
   "execution_count": null,
   "outputs": [],
   "source": [
    "def frequency_distribution_attack(c):\n",
    " smaller_frequency_score = float('inf')\n",
    " c = c.lower()\n",
    " for k in range(len(letters)):\n",
    "  attempted_message = dec(c, k)\n",
    "  frequency_attempted_message = text_frequency(attempted_message)\n",
    "  frequency_score_attempted_message = frequency_score(frequency_attempted_message, port_char_frequency)\n",
    "  if frequency_score_attempted_message < smaller_frequency_score:\n",
    "   best_key = k\n",
    "   smaller_frequency_score = frequency_score_attempted_message\n",
    " return dec(c, best_key)"
   ],
   "metadata": {
    "collapsed": false
   }
  },
  {
   "cell_type": "code",
   "execution_count": null,
   "outputs": [],
   "source": [
    "frequency_distribution_attack(shift_cipher_test_one_enc)"
   ],
   "metadata": {
    "collapsed": false
   }
  },
  {
   "cell_type": "markdown",
   "source": [
    "Por fim, a seguinte função foi estabelecida para medir os tempos de execução das funções utilizadas:"
   ],
   "metadata": {
    "collapsed": false
   }
  },
  {
   "cell_type": "code",
   "execution_count": null,
   "outputs": [],
   "source": [
    "def execution_times():\n",
    "\n",
    " import time\n",
    " function_execution_times = {}\n",
    "\n",
    " # Execution time for Enc:\n",
    " times = []\n",
    " for i in range(10):\n",
    "  start = time.time()\n",
    "  enc(shift_cipher_test_one, 3)\n",
    "  end = time.time()\n",
    "  times.append(end - start)\n",
    " mean = sum(times) / 10\n",
    " function_execution_times[\"Enc\"] = mean\n",
    "\n",
    " # Execution time for Dec:\n",
    " times = []\n",
    " for i in range(10):\n",
    "  start = time.time()\n",
    "  dec(shift_cipher_test_one_enc, 3)\n",
    "  end = time.time()\n",
    "  times.append(end - start)\n",
    " mean = sum(times) / 10\n",
    " function_execution_times[\"Dec\"] = mean\n",
    "\n",
    " # Execution time for Brute Force Attack:\n",
    " times = []\n",
    " for i in range(10):\n",
    "  start = time.time()\n",
    "  brute_force_attack(shift_cipher_test_one_enc)\n",
    "  end = time.time()\n",
    "  times.append(end - start)\n",
    " mean = sum(times) / 10\n",
    " function_execution_times[\"Brute Force\"] = mean\n",
    "\n",
    " # Execution time for Distribution Frequency Attack:\n",
    " times = []\n",
    " for i in range(10):\n",
    "  start = time.time()\n",
    "  frequency_distribution_attack(shift_cipher_test_one_enc)\n",
    "  end = time.time()\n",
    "  times.append(end - start)\n",
    " mean = sum(times) / 10\n",
    " function_execution_times[\"Distribution Frequency\"] = mean\n",
    "\n",
    " return function_execution_times\n",
    "\n",
    "execution_times()"
   ],
   "metadata": {
    "collapsed": false
   }
  }
 ],
 "metadata": {
  "kernelspec": {
   "display_name": "Python 3",
   "language": "python",
   "name": "python3"
  },
  "language_info": {
   "codemirror_mode": {
    "name": "ipython",
    "version": 2
   },
   "file_extension": ".py",
   "mimetype": "text/x-python",
   "name": "python",
   "nbconvert_exporter": "python",
   "pygments_lexer": "ipython2",
   "version": "2.7.6"
  }
 },
 "nbformat": 4,
 "nbformat_minor": 0
}
