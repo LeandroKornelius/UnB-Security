{
 "cells": [
  {
   "cell_type": "markdown",
   "source": [
    "# Exercício 1 - Quebrando Shift Cipher\n",
    "\n",
    "## Instruções:\n",
    "\n",
    "- Elaborar os códigos para realizar a cifra por deslocamento e a respectiva\n",
    "decifração (dica: validar para cifra de César onde k=3);\n",
    "- Elaborar os códigos que quebram a cifra por deslocamento, através de duas\n",
    "estratégias de ataques à cifra (CipherText-only):\n",
    "    - o por ataque de força bruta;\n",
    "    - o por distribuição de frequência;\n",
    "\n",
    "Descrever a viabilidade das estratégias, comparar a complexidade dos algoritmos e\n",
    "tempo de execução, onde cada técnica seria melhor aplicada etc.\n",
    "\n",
    "Utilizar a distribuição de frequência da língua portuguesa:\n",
    "https://www.dcc.fc.up.pt/~rvr/naulas/tabelasPT/\n",
    "\n",
    "## Contextualização:\n",
    "\n",
    "A criptografia é a prática de desenvolver e usar algoritmos para proteger e obscurer informações. Normalmente envolver transformar textos legíveis em textos cifrados, ou que estão em formato ilegível usando uma chave.\n",
    "\n",
    "Nesse sentido, como estaremos lidando com uma \"Shift Cipher\" que é uma criptografia simétrica, ou seja o remetente e destinatário possuem a mesma chave para criptografar e descriptografar, devemos ter os seguintes componentes:\n",
    "- Geração da chave privada - Gen -> K\n",
    "- Encriptação da mensagem M - EncK(M)\n",
    "- Decriptação da mensagem cifrada C - M = DecK(C)\n",
    "\n",
    "## Implementação:\n",
    "\n",
    "### Cifra por Deslocamento\n",
    "\n",
    "Sabendo que as \"Shift Cipher\" tratam letras como inteiros, iniciaremos a implementação declarando um dicionário que mapeia o inteiro à letra correspondente no alfabeto:"
   ],
   "metadata": {
    "collapsed": false
   }
  },
  {
   "cell_type": "code",
   "execution_count": 119,
   "outputs": [],
   "source": [
    "letters = {\n",
    "   0: 'a', 1: 'b', 2: 'c', 3: 'd', 4: 'e',\n",
    "    5: 'f', 6: 'g', 7: 'h', 8: 'i', 9: 'j',\n",
    "    10: 'k', 11: 'l', 12: 'm', 13: 'n', 14: 'o',\n",
    "    15: 'p', 16: 'q', 17: 'r', 18: 's', 19: 't',\n",
    "    20: 'u', 21: 'v', 22: 'w', 23: 'x', 24: 'y',\n",
    "    25: 'z'\n",
    "}"
   ],
   "metadata": {
    "collapsed": false,
    "ExecuteTime": {
     "end_time": "2025-04-17T03:44:30.042025700Z",
     "start_time": "2025-04-17T03:44:29.940773600Z"
    }
   }
  },
  {
   "cell_type": "markdown",
   "source": [
    "Em seguida, faz-se necessário realizar a função de Encriptação que deve transformar uma mensagem legível \"M\" em um texto cifrado \"C\" através de uma chave privada."
   ],
   "metadata": {
    "collapsed": false
   }
  },
  {
   "cell_type": "code",
   "execution_count": 120,
   "outputs": [],
   "source": [
    "def enc(m, k):\n",
    " m = m.lower()\n",
    " print(f'Message being encrypted: {m}')\n",
    " c = ''\n",
    " for char in m:\n",
    "  if char in letters.values():\n",
    "   for num, letter in letters.items():\n",
    "    if char == letter:\n",
    "     c += letters[(num + k) % len(letters)]\n",
    "  else:\n",
    "   c += char\n",
    " print(f'Message encrypted: {c}\\n')\n",
    " return c"
   ],
   "metadata": {
    "collapsed": false,
    "ExecuteTime": {
     "end_time": "2025-04-17T03:44:30.056748900Z",
     "start_time": "2025-04-17T03:44:29.955395100Z"
    }
   }
  },
  {
   "cell_type": "markdown",
   "source": [
    "Portanto, o código acima inicia deixando todos os caractéres minúsculos para não haver diferenciação no tratamento. Começaremos verificando cada caractér da mensagem a ser criptografada. Caso não esteja no dicionário das letras do alfabeto português, nós podemos mantê-la como está. Caso contrário, é necessário realizar o deslocamento com base na chave recebida na função. Tal deslocamento é feito através do resto da divisão pela quantidade de caractéres presente no alfabeto. Nesse sentido, caso a chave supere a quantidade de letras no alfabeto, será possível obter um inteiro que esteja nas chaves do dicionário. Por fim, para validar o funcionamento da função, foi verificado para dois cenários, a Cifra de César e outro valor para K, como implementado abaixo:"
   ],
   "metadata": {
    "collapsed": false
   }
  },
  {
   "cell_type": "code",
   "execution_count": 121,
   "outputs": [
    {
     "name": "stdout",
     "output_type": "stream",
     "text": [
      "Message being encrypted: abcdefghijklmnopqrstuvwxyz\n",
      "Message encrypted: defghijklmnopqrstuvwxyzabc\n",
      "\n",
      "Message being encrypted: cifradecesar\n",
      "Message encrypted: fliudghfhvdu\n",
      "\n",
      "Message being encrypted: o sr. e a sra. dursley, da rua dos alfeneiros, nº. 4, se orgulhavam de dizer que eram perfeitamente normais, muito bem, obrigado. eram as últimas pessoas no mundo que se esperaria que se metessem em alguma coisa estranha ou misteriosa, porque simplesmente não compactuavam com esse tipo debobagem.\n",
      "Message encrypted: w az. m i azi. lczatmg, li zci lwa itnmvmqzwa, vº. 4, am wzoctpidiu lm lqhmz ycm mziu xmznmqbiumvbm vwzuiqa, ucqbw jmu, wjzqoilw. mziu ia útbquia xmaawia vw ucvlw ycm am maxmzizqi ycm am umbmaamu mu itocui kwqai mabzivpi wc uqabmzqwai, xwzycm aquxtmaumvbm vãw kwuxikbcidiu kwu maam bqxw lmjwjiomu.\n",
      "\n"
     ]
    }
   ],
   "source": [
    "caesar_test_one = 'abcdefghijklmnopqrstuvwxyz'\n",
    "caesar_test_two = 'cifradecesar'\n",
    "\n",
    "# First paragraph of the Harry Potter book\n",
    "shift_cipher_test_one = 'O Sr. e a Sra. Dursley, da Rua dos Alfeneiros, nº. 4, se orgulhavam de dizer que eram perfeitamente normais, muito bem, obrigado. Eram as últimas pessoas no mundo que se esperaria que se metessem em alguma coisa estranha ou misteriosa, porque simplesmente não compactuavam com esse tipo debobagem.'\n",
    "\n",
    "# Encode test for Caesar in which K = 3\n",
    "caesar_test_one_enc = enc(caesar_test_one, 3)\n",
    "caesar_test_two_enc = enc(caesar_test_two, 3)\n",
    "\n",
    "# Another test with a longer text and a different K = 8 for example\n",
    "shift_cipher_test_one_enc = enc(shift_cipher_test_one, 8)"
   ],
   "metadata": {
    "collapsed": false,
    "ExecuteTime": {
     "end_time": "2025-04-17T03:44:30.099113400Z",
     "start_time": "2025-04-17T03:44:29.967859500Z"
    }
   }
  },
  {
   "cell_type": "markdown",
   "source": [
    "Assim, observa-se que a função está tendo o comportamento esperado. Ademais, caractéres que não estão previstos nas letras estão sendo tratados não realizando o deslocamento, os deixando iguais.\n",
    "\n",
    "Agora, faz necessário fazer o processo contrário. Ou seja, a decriptação onde a partir de uma mensagem ilegível obtemos a mensagem legível usando a chave privada."
   ],
   "metadata": {
    "collapsed": false
   }
  },
  {
   "cell_type": "code",
   "execution_count": 122,
   "outputs": [],
   "source": [
    "def dec(c, k):\n",
    " c = c.lower()\n",
    " print(f'Cipher being decrypted: {c}')\n",
    " m = ''\n",
    " for char in c:\n",
    "  if char in letters.values():\n",
    "   for num, letter in letters.items():\n",
    "    if char == letter:\n",
    "     m += letters[(num - k) % len(letters)]\n",
    "  else:\n",
    "   m += char\n",
    " print(f'Cipher decrypted: {m}\\n')\n",
    " return m"
   ],
   "metadata": {
    "collapsed": false,
    "ExecuteTime": {
     "end_time": "2025-04-17T03:44:30.100112800Z",
     "start_time": "2025-04-17T03:44:29.977890800Z"
    }
   }
  },
  {
   "cell_type": "markdown",
   "source": [
    "No código acima, foi usado a subtração pela chave para assim retornar à letra da mensagem. O uso do resto da divisão é análogo na função \"enc\" em função da quantidade de letras no dicionário. Para verificar o funcionamento desta função, veremos se ao usar o resultado da função de \"enc\" como cifra na função de \"dec\" se obteremos a mesma mensagem. Novamente, faremos os testes desta função com os resultados obtidos pela função de encrypt. Com isso, observa-se que os resultados retornam o texto criptografado para a mensagem legível."
   ],
   "metadata": {
    "collapsed": false
   }
  },
  {
   "cell_type": "code",
   "execution_count": 123,
   "outputs": [
    {
     "name": "stdout",
     "output_type": "stream",
     "text": [
      "Cipher being decrypted: defghijklmnopqrstuvwxyzabc\n",
      "Cipher decrypted: abcdefghijklmnopqrstuvwxyz\n",
      "\n",
      "Cipher being decrypted: fliudghfhvdu\n",
      "Cipher decrypted: cifradecesar\n",
      "\n",
      "Cipher being decrypted: w az. m i azi. lczatmg, li zci lwa itnmvmqzwa, vº. 4, am wzoctpidiu lm lqhmz ycm mziu xmznmqbiumvbm vwzuiqa, ucqbw jmu, wjzqoilw. mziu ia útbquia xmaawia vw ucvlw ycm am maxmzizqi ycm am umbmaamu mu itocui kwqai mabzivpi wc uqabmzqwai, xwzycm aquxtmaumvbm vãw kwuxikbcidiu kwu maam bqxw lmjwjiomu.\n",
      "Cipher decrypted: o sr. e a sra. dursley, da rua dos alfeneiros, nº. 4, se orgulhavam de dizer que eram perfeitamente normais, muito bem, obrigado. eram as últimas pessoas no mundo que se esperaria que se metessem em alguma coisa estranha ou misteriosa, porque simplesmente não compactuavam com esse tipo debobagem.\n",
      "\n"
     ]
    },
    {
     "data": {
      "text/plain": "'o sr. e a sra. dursley, da rua dos alfeneiros, nº. 4, se orgulhavam de dizer que eram perfeitamente normais, muito bem, obrigado. eram as últimas pessoas no mundo que se esperaria que se metessem em alguma coisa estranha ou misteriosa, porque simplesmente não compactuavam com esse tipo debobagem.'"
     },
     "execution_count": 123,
     "metadata": {},
     "output_type": "execute_result"
    }
   ],
   "source": [
    "# Decrypt test for Caesar tests in which K = 3\n",
    "dec(caesar_test_one_enc, 3)\n",
    "dec(caesar_test_two_enc, 3)\n",
    "\n",
    "# Another test with a longer text and a different K = 8 for example\n",
    "dec(shift_cipher_test_one_enc, 8)"
   ],
   "metadata": {
    "collapsed": false,
    "ExecuteTime": {
     "end_time": "2025-04-17T03:44:30.100112800Z",
     "start_time": "2025-04-17T03:44:29.990102100Z"
    }
   }
  },
  {
   "cell_type": "markdown",
   "source": [
    "### Ataque por Força Bruta\n",
    "\n",
    "Os ataques de segurança buscam achar informações sobre a mensagem legível e/ou a chave. Sob essa ótica, o ataque por Força Bruta consiste em testar todas chaves possíveis até obter tradução inteligível para o texto claro. Suponhamos que o \"hacker\" saiba que a mensagem foi originada no Brasil, portanto terá os mesmos caractéres do alfabeto da variável já definida acima."
   ],
   "metadata": {
    "collapsed": false
   }
  },
  {
   "cell_type": "code",
   "execution_count": 124,
   "outputs": [],
   "source": [
    "def brute_force_attack(c):\n",
    " c = c.lower()\n",
    " print(\"Testing all possible keys:\")\n",
    " possible_messages = []\n",
    " for k in range(len(letters)):\n",
    "  attempted_message = \"\"\n",
    "  for char in c:\n",
    "   if char in letters.values():\n",
    "    for num, letter in letters.items():\n",
    "     if char == letter:\n",
    "      attempted_message += letters[(num - k) % len(letters)]\n",
    "   else:\n",
    "    attempted_message += char\n",
    "  possible_messages.append(attempted_message)\n",
    "  print(f'K = {k} has the following broken message: {attempted_message}')\n",
    " readable_message_k = int(input('Which K has a readable message? '))\n",
    " print(f'The broken message through brute force attack is: {possible_messages[readable_message_k]}')\n",
    " return possible_messages[readable_message_k]"
   ],
   "metadata": {
    "collapsed": false,
    "ExecuteTime": {
     "end_time": "2025-04-17T03:44:30.101111900Z",
     "start_time": "2025-04-17T03:44:29.997059100Z"
    }
   }
  },
  {
   "cell_type": "markdown",
   "source": [
    "No código acima, é usado como parâmetro o texto cifrado que é o que vamos tentar traduzir de volta para uma mensagem legível através do teste de todas as possibilidades. Nesse sentido, as possíveis chaves são a quantidade de letras possíveis. Assim, devemos testar todas estas chaves até conseguirmos compreender o que está escrito. Quando isso ocorrer, significa que encontramos a mensagem. Vamos testar o ataque através de mensagem encriptada abaixo:"
   ],
   "metadata": {
    "collapsed": false
   }
  },
  {
   "cell_type": "code",
   "execution_count": 125,
   "outputs": [
    {
     "name": "stdout",
     "output_type": "stream",
     "text": [
      "Testing all possible keys:\n",
      "K = 0 has the following broken message: w az. m i azi. lczatmg, li zci lwa itnmvmqzwa, vº. 4, am wzoctpidiu lm lqhmz ycm mziu xmznmqbiumvbm vwzuiqa, ucqbw jmu, wjzqoilw. mziu ia útbquia xmaawia vw ucvlw ycm am maxmzizqi ycm am umbmaamu mu itocui kwqai mabzivpi wc uqabmzqwai, xwzycm aquxtmaumvbm vãw kwuxikbcidiu kwu maam bqxw lmjwjiomu.\n",
      "K = 1 has the following broken message: v zy. l h zyh. kbyzslf, kh ybh kvz hsmlulpyvz, uº. 4, zl vynbsohcht kl kpgly xbl lyht wlymlpahtlual uvythpz, tbpav ilt, viypnhkv. lyht hz úsapthz wlzzvhz uv tbukv xbl zl lzwlyhyph xbl zl tlalzzlt lt hsnbth jvpzh lzayhuoh vb tpzalypvzh, wvyxbl zptwslztlual uãv jvtwhjabhcht jvt lzzl apwv klivihnlt.\n",
      "K = 2 has the following broken message: u yx. k g yxg. jaxyrke, jg xag juy grlktkoxuy, tº. 4, yk uxmarngbgs jk jofkx wak kxgs vkxlkozgsktzk tuxsgoy, saozu hks, uhxomgju. kxgs gy úrzosgy vkyyugy tu satju wak yk kyvkxgxog wak yk skzkyyks ks grmasg iuoyg kyzxgtng ua soyzkxouyg, vuxwak yosvrkysktzk tãu iusvgizagbgs ius kyyk zovu jkhuhgmks.\n",
      "K = 3 has the following broken message: t xw. j f xwf. izwxqjd, if wzf itx fqkjsjnwtx, sº. 4, xj twlzqmfafr ij inejw vzj jwfr ujwkjnyfrjsyj stwrfnx, rznyt gjr, tgwnlfit. jwfr fx úqynrfx ujxxtfx st rzsit vzj xj jxujwfwnf vzj xj rjyjxxjr jr fqlzrf htnxf jxywfsmf tz rnxyjwntxf, utwvzj xnruqjxrjsyj sãt htrufhyzfafr htr jxxj ynut ijgtgfljr.\n",
      "K = 4 has the following broken message: s wv. i e wve. hyvwpic, he vye hsw epjirimvsw, rº. 4, wi svkyplezeq hi hmdiv uyi iveq tivjimxeqirxi rsvqemw, qymxs fiq, sfvmkehs. iveq ew úpxmqew tiwwsew rs qyrhs uyi wi iwtivevme uyi wi qixiwwiq iq epkyqe gsmwe iwxverle sy qmwxivmswe, tsvuyi wmqtpiwqirxi rãs gsqtegxyezeq gsq iwwi xmts hifsfekiq.\n",
      "K = 5 has the following broken message: r vu. h d vud. gxuvohb, gd uxd grv doihqhlurv, qº. 4, vh rujxokdydp gh glchu txh hudp shuihlwdphqwh qrupdlv, pxlwr ehp, reuljdgr. hudp dv úowlpdv shvvrdv qr pxqgr txh vh hvshuduld txh vh phwhvvhp hp dojxpd frlvd hvwudqkd rx plvwhulrvd, srutxh vlpsohvphqwh qãr frpsdfwxdydp frp hvvh wlsr gheredjhp.\n",
      "K = 6 has the following broken message: q ut. g c utc. fwtunga, fc twc fqu cnhgpgktqu, pº. 4, ug qtiwnjcxco fg fkbgt swg gtco rgthgkvcogpvg pqtocku, owkvq dgo, qdtkicfq. gtco cu únvkocu rguuqcu pq owpfq swg ug gurgtctkc swg ug ogvguugo go cniwoc eqkuc guvtcpjc qw okuvgtkquc, rqtswg ukornguogpvg pãq eqorcevwcxco eqo guug vkrq fgdqdcigo.\n",
      "K = 7 has the following broken message: p ts. f b tsb. evstmfz, eb svb ept bmgfofjspt, oº. 4, tf pshvmibwbn ef ejafs rvf fsbn qfsgfjubnfouf opsnbjt, nvjup cfn, pcsjhbep. fsbn bt úmujnbt qfttpbt op nvoep rvf tf ftqfsbsjb rvf tf nfufttfn fn bmhvnb dpjtb ftusboib pv njtufsjptb, qpsrvf tjnqmftnfouf oãp dpnqbduvbwbn dpn fttf ujqp efcpcbhfn.\n",
      "K = 8 has the following broken message: o sr. e a sra. dursley, da rua dos alfeneiros, nº. 4, se orgulhavam de dizer que eram perfeitamente normais, muito bem, obrigado. eram as últimas pessoas no mundo que se esperaria que se metessem em alguma coisa estranha ou misteriosa, porque simplesmente não compactuavam com esse tipo debobagem.\n",
      "K = 9 has the following broken message: n rq. d z rqz. ctqrkdx, cz qtz cnr zkedmdhqnr, mº. 4, rd nqftkgzuzl cd chydq ptd dqzl odqedhszldmsd mnqlzhr, lthsn adl, naqhfzcn. dqzl zr úkshlzr odrrnzr mn ltmcn ptd rd drodqzqhz ptd rd ldsdrrdl dl zkftlz bnhrz drsqzmgz nt lhrsdqhnrz, onqptd rhlokdrldmsd mãn bnlozbstzuzl bnl drrd shon cdanazfdl.\n",
      "K = 10 has the following broken message: m qp. c y qpy. bspqjcw, by psy bmq yjdclcgpmq, lº. 4, qc mpesjfytyk bc bgxcp osc cpyk ncpdcgrykclrc lmpkygq, ksgrm zck, mzpgeybm. cpyk yq újrgkyq ncqqmyq lm kslbm osc qc cqncpypgy osc qc kcrcqqck ck yjesky amgqy cqrpylfy ms kgqrcpgmqy, nmposc qgknjcqkclrc lãm amknyarsytyk amk cqqc rgnm bczmzyeck.\n",
      "K = 11 has the following broken message: l po. b x pox. aropibv, ax orx alp xicbkbfolp, kº. 4, pb lodriexsxj ab afwbo nrb boxj mbocbfqxjbkqb klojxfp, jrfql ybj, lyofdxal. boxj xp úiqfjxp mbpplxp kl jrkal nrb pb bpmboxofx nrb pb jbqbppbj bj xidrjx zlfpx bpqoxkex lr jfpqboflpx, mlonrb pfjmibpjbkqb kãl zljmxzqrxsxj zlj bppb qfml abylyxdbj.\n",
      "K = 12 has the following broken message: k on. a w onw. zqnohau, zw nqw zko whbajaenko, jº. 4, oa kncqhdwrwi za zevan mqa anwi lanbaepwiajpa jkniweo, iqepk xai, kxnecwzk. anwi wo úhpeiwo laookwo jk iqjzk mqa oa aolanwnew mqa oa iapaooai ai whcqiw ykeow aopnwjdw kq ieopanekow, lknmqa oeilhaoiajpa jãk ykilwypqwrwi yki aooa pelk zaxkxwcai.\n",
      "K = 13 has the following broken message: j nm. z v nmv. ypmngzt, yv mpv yjn vgazizdmjn, iº. 4, nz jmbpgcvqvh yz yduzm lpz zmvh kzmazdovhzioz ijmhvdn, hpdoj wzh, jwmdbvyj. zmvh vn úgodhvn kznnjvn ij hpiyj lpz nz znkzmvmdv lpz nz hzoznnzh zh vgbphv xjdnv znomvicv jp hdnozmdjnv, kjmlpz ndhkgznhzioz iãj xjhkvxopvqvh xjh znnz odkj yzwjwvbzh.\n",
      "K = 14 has the following broken message: i ml. y u mlu. xolmfys, xu lou xim ufzyhyclim, hº. 4, my ilaofbupug xy xctyl koy ylug jylzycnugyhny hilgucm, gocni vyg, ivlcauxi. ylug um úfncgum jymmium hi gohxi koy my ymjylulcu koy my gynymmyg yg ufaogu wicmu ymnluhbu io gcmnylcimu, jilkoy mcgjfymgyhny hãi wigjuwnoupug wig ymmy ncji xyvivuayg.\n",
      "K = 15 has the following broken message: h lk. x t lkt. wnklexr, wt knt whl teyxgxbkhl, gº. 4, lx hkzneatotf wx wbsxk jnx xktf ixkyxbmtfxgmx ghkftbl, fnbmh uxf, hukbztwh. xktf tl úembftl ixllhtl gh fngwh jnx lx xlixktkbt jnx lx fxmxllxf xf teznft vhblt xlmktgat hn fblmxkbhlt, ihkjnx lbfiexlfxgmx gãh vhfitvmntotf vhf xllx mbih wxuhutzxf.\n",
      "K = 16 has the following broken message: g kj. w s kjs. vmjkdwq, vs jms vgk sdxwfwajgk, fº. 4, kw gjymdzsnse vw varwj imw wjse hwjxwalsewflw fgjesak, emalg twe, gtjaysvg. wjse sk údlaesk hwkkgsk fg emfvg imw kw wkhwjsjas imw kw ewlwkkwe we sdymes ugaks wkljsfzs gm eaklwjagks, hgjimw kaehdwkewflw fãg ugehsulmsnse uge wkkw lahg vwtgtsywe.\n",
      "K = 17 has the following broken message: f ji. v r jir. ulijcvp, ur ilr ufj rcwvevzifj, eº. 4, jv fixlcyrmrd uv uzqvi hlv vird gviwvzkrdvekv efidrzj, dlzkf svd, fsizxruf. vird rj úckzdrj gvjjfrj ef dleuf hlv jv vjgvirizr hlv jv dvkvjjvd vd rcxldr tfzjr vjkireyr fl dzjkvizfjr, gfihlv jzdgcvjdvekv eãf tfdgrtklrmrd tfd vjjv kzgf uvsfsrxvd.\n",
      "K = 18 has the following broken message: e ih. u q ihq. tkhibuo, tq hkq tei qbvuduyhei, dº. 4, iu ehwkbxqlqc tu typuh gku uhqc fuhvuyjqcudju dehcqyi, ckyje ruc, erhywqte. uhqc qi úbjycqi fuiieqi de ckdte gku iu uifuhqhyq gku iu cujuiiuc uc qbwkcq seyiq uijhqdxq ek cyijuhyeiq, fehgku iycfbuicudju dãe secfqsjkqlqc sec uiiu jyfe turerqwuc.\n",
      "K = 19 has the following broken message: d hg. t p hgp. sjghatn, sp gjp sdh pautctxgdh, cº. 4, ht dgvjawpkpb st sxotg fjt tgpb etgutxipbtcit cdgbpxh, bjxid qtb, dqgxvpsd. tgpb ph úaixbph ethhdph cd bjcsd fjt ht thetgpgxp fjt ht btithhtb tb pavjbp rdxhp thigpcwp dj bxhitgxdhp, edgfjt hxbeathbtcit cãd rdbeprijpkpb rdb thht ixed stqdqpvtb.\n",
      "K = 20 has the following broken message: c gf. s o gfo. rifgzsm, ro fio rcg oztsbswfcg, bº. 4, gs cfuizvojoa rs rwnsf eis sfoa dsftswhoasbhs bcfaowg, aiwhc psa, cpfwuorc. sfoa og úzhwaog dsggcog bc aibrc eis gs sgdsfofwo eis gs ashsggsa sa ozuiao qcwgo sghfobvo ci awghsfwcgo, dcfeis gwadzsgasbhs bãc qcadoqhiojoa qca sggs hwdc rspcpousa.\n",
      "K = 21 has the following broken message: b fe. r n fen. qhefyrl, qn ehn qbf nysrarvebf, aº. 4, fr bethyuninz qr qvmre dhr renz cresrvgnzragr abeznvf, zhvgb orz, boevtnqb. renz nf úygvznf crffbnf ab zhaqb dhr fr rfcrenevn dhr fr zrgrffrz rz nythzn pbvfn rfgenaun bh zvfgrevbfn, cbedhr fvzcyrfzragr aãb pbzcnpghninz pbz rffr gvcb qrobontrz.\n",
      "K = 22 has the following broken message: a ed. q m edm. pgdexqk, pm dgm pae mxrqzqudae, zº. 4, eq adsgxtmhmy pq pulqd cgq qdmy bqdrqufmyqzfq zadymue, ygufa nqy, andusmpa. qdmy me úxfuyme bqeeame za ygzpa cgq eq qebqdmdum cgq eq yqfqeeqy qy mxsgym oauem qefdmztm ag yuefqduaem, badcgq euybxqeyqzfq zãa oaybmofgmhmy oay qeeq fuba pqnanmsqy.\n",
      "K = 23 has the following broken message: z dc. p l dcl. ofcdwpj, ol cfl ozd lwqpyptczd, yº. 4, dp zcrfwslglx op otkpc bfp pclx apcqptelxpyep yzcxltd, xftez mpx, zmctrloz. pclx ld úwetxld apddzld yz xfyoz bfp dp pdapclctl bfp dp xpepddpx px lwrfxl nztdl pdeclysl zf xtdepctzdl, azcbfp dtxawpdxpyep yãz nzxalneflglx nzx pddp etaz opmzmlrpx.\n",
      "K = 24 has the following broken message: y cb. o k cbk. nebcvoi, nk bek nyc kvpoxosbyc, xº. 4, co ybqevrkfkw no nsjob aeo obkw zobposdkwoxdo xybwksc, wesdy low, ylbsqkny. obkw kc úvdswkc zoccykc xy wexny aeo co oczobkbsk aeo co wodoccow ow kvqewk mysck ocdbkxrk ye wscdobsyck, zybaeo cswzvocwoxdo xãy mywzkmdekfkw myw occo dszy nolylkqow.\n",
      "K = 25 has the following broken message: x ba. n j baj. mdabunh, mj adj mxb juonwnraxb, wº. 4, bn xapduqjejv mn mrina zdn najv ynaonrcjvnwcn wxavjrb, vdrcx knv, xkarpjmx. najv jb úucrvjb ynbbxjb wx vdwmx zdn bn nbynajarj zdn bn vncnbbnv nv jupdvj lxrbj nbcajwqj xd vrbcnarxbj, yxazdn brvyunbvnwcn wãx lxvyjlcdjejv lxv nbbn cryx mnkxkjpnv.\n",
      "The broken message through brute force attack is: o sr. e a sra. dursley, da rua dos alfeneiros, nº. 4, se orgulhavam de dizer que eram perfeitamente normais, muito bem, obrigado. eram as últimas pessoas no mundo que se esperaria que se metessem em alguma coisa estranha ou misteriosa, porque simplesmente não compactuavam com esse tipo debobagem.\n"
     ]
    },
    {
     "data": {
      "text/plain": "'o sr. e a sra. dursley, da rua dos alfeneiros, nº. 4, se orgulhavam de dizer que eram perfeitamente normais, muito bem, obrigado. eram as últimas pessoas no mundo que se esperaria que se metessem em alguma coisa estranha ou misteriosa, porque simplesmente não compactuavam com esse tipo debobagem.'"
     },
     "execution_count": 125,
     "metadata": {},
     "output_type": "execute_result"
    }
   ],
   "source": [
    "brute_force_attack(shift_cipher_test_one_enc)"
   ],
   "metadata": {
    "collapsed": false,
    "ExecuteTime": {
     "end_time": "2025-04-17T03:44:34.708556500Z",
     "start_time": "2025-04-17T03:44:30.017259700Z"
    }
   }
  },
  {
   "cell_type": "markdown",
   "source": [
    "### Ataque por Distribuição de Frequência\n",
    "\n",
    "Este ataque conta a frequência das letras cifradas e compara com a típica usada no português. Em seguida, usam esta frequência para ajustar o deslocamento até que a frequência do texto cifrado se alinhe com a frequência esperada. Assim, será possível descobrir a mensagem e traduzir o texto criptografado para algo legível. Para isso, iremos usar a distribuição de frequência apresentada nas intruções: https://www.dcc.fc.up.pt/~rvr/naulas/tabelasPT/"
   ],
   "metadata": {
    "collapsed": false
   }
  },
  {
   "cell_type": "code",
   "execution_count": 126,
   "outputs": [],
   "source": [
    "port_char_frequency = {\n",
    " 'a': 13.9, 'b': 1, 'c': 4.4, 'd': 5.4, 'e': 12.2,\n",
    " 'f': 1, 'g': 1.2, 'h': 0.8, 'i': 6.9, 'j': 0.4,\n",
    " 'k': 0.1, 'l': 2.8, 'm': 4.2, 'n': 5.3, 'o': 10.8,\n",
    " 'p': 2.9, 'q': 0.9, 'r': 6.9, 's': 7.9, 't': 4.9,\n",
    " 'u': 4.0, 'v': 1.3, 'w': 0.0, 'x': 0.3, 'y': 0.0,\n",
    " 'z': 0.4\n",
    "}"
   ],
   "metadata": {
    "collapsed": false,
    "ExecuteTime": {
     "end_time": "2025-04-17T03:44:34.708556500Z",
     "start_time": "2025-04-17T03:44:34.594102100Z"
    }
   }
  },
  {
   "cell_type": "markdown",
   "source": [
    "Vamos iniciar fazendo uma função que realiza a distribuição de frequência para o texto cifrado deixando para cada caracter o seu percentual de aparecimento no texto cifrado. Ou seja, este dicionário terá a mesma estrutura do definido anteriormente"
   ],
   "metadata": {
    "collapsed": false
   }
  },
  {
   "cell_type": "code",
   "execution_count": 137,
   "outputs": [
    {
     "name": "stdout",
     "output_type": "stream",
     "text": [
      "{'a': 10.683760683760683, 'b': 4.273504273504273, 'c': 5.128205128205128, 'd': 0.8547008547008548, 'e': 0.0, 'f': 0.0, 'g': 0.4273504273504274, 'h': 0.4273504273504274, 'i': 11.538461538461538, 'j': 1.7094017094017095, 'k': 1.7094017094017095, 'l': 3.418803418803419, 'm': 15.384615384615385, 'n': 0.8547008547008548, 'o': 1.7094017094017095, 'p': 0.8547008547008548, 'q': 5.555555555555555, 'r': 0.0, 's': 0.0, 't': 2.564102564102564, 'u': 8.547008547008547, 'v': 3.8461538461538463, 'w': 8.547008547008547, 'x': 2.9914529914529915, 'y': 1.7094017094017095, 'z': 7.264957264957266}\n"
     ]
    }
   ],
   "source": [
    "def cipher_frequency(c):\n",
    " c = c.lower()\n",
    " cipher_char_frequency = {}\n",
    "\n",
    " for char in letters.values():\n",
    "  cipher_char_frequency[char] = 0\n",
    "\n",
    " # Count occurences of chars\n",
    " for char in c:\n",
    "  if char in letters.values():\n",
    "   cipher_char_frequency[char] += 1\n",
    "\n",
    " # Converts to percentage\n",
    " total_chars = sum(cipher_char_frequency.values())\n",
    " for char in cipher_char_frequency:\n",
    "  cipher_char_frequency[char] = (cipher_char_frequency[char] / total_chars) * 100\n",
    "\n",
    " return cipher_char_frequency\n",
    "\n",
    "shif_cipher_test_one_frequency = cipher_frequency(shift_cipher_test_one_enc)\n",
    "print(shif_cipher_test_one_frequency)"
   ],
   "metadata": {
    "collapsed": false,
    "ExecuteTime": {
     "end_time": "2025-04-17T04:53:58.414348600Z",
     "start_time": "2025-04-17T04:53:58.406398800Z"
    }
   }
  },
  {
   "cell_type": "markdown",
   "source": [
    "Assim, agora temos dois dicionários com as frequências dos caractéres. Dessa forma, poderemos usar a diferença entre as duas frequências para descobrir o deslocamento. Iniciaremos esta lógica definindo uma nova função a qual irá medir esta diferença entre as duas frequências, a do texto cifrado e da língua portuguesa."
   ],
   "metadata": {
    "collapsed": false
   }
  },
  {
   "cell_type": "code",
   "execution_count": 138,
   "outputs": [],
   "source": [
    "def frequency_score(frequency_one, frequency_two):\n",
    " return sum(frequency_one.get(char, 0) - frequency_two.get(char, 0) ** 2 for char in frequency_one)"
   ],
   "metadata": {
    "collapsed": false,
    "ExecuteTime": {
     "end_time": "2025-04-17T04:58:34.265019700Z",
     "start_time": "2025-04-17T04:58:34.240155900Z"
    }
   }
  },
  {
   "cell_type": "markdown",
   "source": [
    "Agora, poderemos implementar a quebra por distribuição de frequência:"
   ],
   "metadata": {
    "collapsed": false
   }
  },
  {
   "cell_type": "code",
   "execution_count": null,
   "outputs": [],
   "source": [
    "def frequency_distribution_attack(c):\n",
    " c = c.lower()"
   ],
   "metadata": {
    "collapsed": false
   }
  }
 ],
 "metadata": {
  "kernelspec": {
   "display_name": "Python 3",
   "language": "python",
   "name": "python3"
  },
  "language_info": {
   "codemirror_mode": {
    "name": "ipython",
    "version": 2
   },
   "file_extension": ".py",
   "mimetype": "text/x-python",
   "name": "python",
   "nbconvert_exporter": "python",
   "pygments_lexer": "ipython2",
   "version": "2.7.6"
  }
 },
 "nbformat": 4,
 "nbformat_minor": 0
}
