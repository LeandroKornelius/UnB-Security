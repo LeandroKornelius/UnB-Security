{
 "cells": [
  {
   "cell_type": "markdown",
   "source": [
    "# Exercício 2 - Quebrando Cifra por Transposição\n",
    "\n",
    "## Instruções:\n",
    "\n",
    "- Elaborar o código para realizar uma cifra por transposição (dica: pode escolher o método de permutação);\n",
    "- Elaborar os códigos que quebram a cifra por transposição, através de duas estratégias de ataques à cifra (Cipher-Text-only):\n",
    "    - por ataque de força bruta;\n",
    "    - por distribuição de frequência;\n",
    "\n",
    "Descrever a cifra por transposição escolhida no algoritmo para encriptar e a viabilidade das estratégias, comparar complexidade dos algoritmos e tempos de execução, onde cada técnica seria melhor aplicada etc.\n",
    "\n",
    "Utilizar a distribuição de frequência da língua portuguesa:+\n",
    "https://www.dcc.fc.up.pt/%7Ervr/naulas/tabelasPT/\n",
    "\n",
    "## Implementação:\n",
    "\n",
    "### Cifra por Transposição:"
   ],
   "metadata": {
    "collapsed": false
   }
  },
  {
   "cell_type": "markdown",
   "source": [
    "A Cifra por transposição busca rearranjar os caracteres de uma mensagem através de uma chave de forma que fique ilegível."
   ],
   "metadata": {
    "collapsed": false
   }
  },
  {
   "cell_type": "code",
   "execution_count": 1,
   "outputs": [],
   "source": [
    "def encTransp(m, k, perm):\n",
    " print(f'Message being encrypted is: {m}')\n",
    " m = m.replace(' ', '').lower()\n",
    " aux = [''] * k\n",
    " if len(m) % k != 0:\n",
    "  m += 'x' * (k - (len(m) % k))\n",
    " for i in range(len(m)):\n",
    "  aux[i % k] += m[i]\n",
    " c = ''\n",
    " for number in perm:\n",
    "  c += aux[number]\n",
    " return c"
   ],
   "metadata": {
    "collapsed": false,
    "ExecuteTime": {
     "end_time": "2025-04-21T19:51:10.299168700Z",
     "start_time": "2025-04-21T19:51:10.109965100Z"
    }
   }
  },
  {
   "cell_type": "markdown",
   "source": [
    "Na função acima, foi feito a criptografia usando esta técnica de forma a transformar uma mensagem legível \"M\" em um texto cifrado \"C\" através de uma chave privada e uma permutação, pois foi escolhido para implementação o método da permutação desta cifra.\n",
    "\n",
    "O código inicia removendo espaços e tornando todas letras minúsculas a fim de não haver diferenciação entre letras iguais. Em função desta cifra rearranjar os caracteres em colunas definidas pela chave foi feito um \"padding\" para garantir que a mensagem tenha uma quantidade de caracteres divisível pela chave K. Em seguida, iteramos por todos caracteres da mensagem os separando em K colunas através do operador de resto da divisão. Por fim, para corresponder a permutação recebida, rearranjamos as colunas obtidas para retornar o texto cifrado por transposição. A seguir é feito um teste, o qual obtém os resultados esperados:"
   ],
   "metadata": {
    "collapsed": false
   }
  },
  {
   "cell_type": "code",
   "execution_count": 2,
   "outputs": [
    {
     "name": "stdout",
     "output_type": "stream",
     "text": [
      "Message being encrypted is: hello\n"
     ]
    },
    {
     "data": {
      "text/plain": "'hllxeo'"
     },
     "execution_count": 2,
     "metadata": {},
     "output_type": "execute_result"
    }
   ],
   "source": [
    "transpositon_cipher_test_one_enc = encTransp('hello', 3, [0, 2, 1])\n",
    "transpositon_cipher_test_one_enc"
   ],
   "metadata": {
    "collapsed": false,
    "ExecuteTime": {
     "end_time": "2025-04-21T19:51:10.336886500Z",
     "start_time": "2025-04-21T19:51:10.119951300Z"
    }
   }
  },
  {
   "cell_type": "markdown",
   "source": [
    "### Ataque por Força Bruta\n",
    "\n",
    "Para realizar este ataque, foi necessário definir duas funções auxiliares:\n",
    "- A primeira estabelece todos divisores até um número n\n",
    "- A segunda gera todas permutações de 0 a um número k"
   ],
   "metadata": {
    "collapsed": false
   }
  },
  {
   "cell_type": "code",
   "execution_count": 3,
   "outputs": [],
   "source": [
    "def find_divisors(n):\n",
    " import math\n",
    " divisors = []\n",
    " for d in range(1, math.isqrt(n) + 1):\n",
    "  if n % d == 0:\n",
    "   divisors.append(d)\n",
    "   divisors.append(n // d)\n",
    " return sorted(divisors)"
   ],
   "metadata": {
    "collapsed": false,
    "ExecuteTime": {
     "end_time": "2025-04-21T19:51:10.337884Z",
     "start_time": "2025-04-21T19:51:10.138706600Z"
    }
   }
  },
  {
   "cell_type": "code",
   "execution_count": 4,
   "outputs": [],
   "source": [
    "def find_permutations_up_to_k(k):\n",
    "    from itertools import permutations\n",
    "    items = list(range(0, k))\n",
    "    for perm in permutations(items):\n",
    "        yield perm"
   ],
   "metadata": {
    "collapsed": false,
    "ExecuteTime": {
     "end_time": "2025-04-21T19:51:10.338888400Z",
     "start_time": "2025-04-21T19:51:10.150045300Z"
    }
   }
  },
  {
   "cell_type": "markdown",
   "source": [
    "O ataque por força bruta deve testar todas possíveis cifras a fim de encontrar uma mensagem inteligível."
   ],
   "metadata": {
    "collapsed": false
   }
  },
  {
   "cell_type": "code",
   "execution_count": 5,
   "outputs": [],
   "source": [
    "def transposition_cipher_brute_force_attack(c):\n",
    "    c = c.lower()\n",
    "    possible_messages = []\n",
    "    possible_keys = find_divisors(len(c))\n",
    "    for k in possible_keys:\n",
    "        aux = [''] * k\n",
    "        for i in range(len(c)):\n",
    "            aux[i % k] += c[i]\n",
    "        possible_perms_for_k = find_permutations_up_to_k(k)\n",
    "        for perm in possible_perms_for_k:\n",
    "            m = ''\n",
    "            for number in perm:\n",
    "                m += aux[number]\n",
    "            possible_messages.append(m)\n",
    "    return possible_messages"
   ],
   "metadata": {
    "collapsed": false,
    "ExecuteTime": {
     "end_time": "2025-04-21T19:51:10.338888400Z",
     "start_time": "2025-04-21T19:51:10.171947300Z"
    }
   }
  },
  {
   "cell_type": "markdown",
   "source": [
    "O código acima, inicia encontrando todas possíveis chaves as quais são os divisores do texto cifrado afinal foi usado um \"padding\" para completar a mensagem caso a quantidade de caracteres não fosse divisível. Em seguida, iteramos por todas estas chaves e fazemos o mesmo processo da função de encode para retornar as colunas às linhas. Por fim, é feita todas permutações até o valor daquela chave para a mensagem obtida. Assim, teremos todas possibilidades. Tal processo pode ser verificado abaixo, a qual possui a mensagem original com \"padding\" entre as possibilidades."
   ],
   "metadata": {
    "collapsed": false
   }
  },
  {
   "cell_type": "code",
   "execution_count": 6,
   "outputs": [
    {
     "data": {
      "text/plain": "['hllxeo',\n 'hlelxo',\n 'lxohle',\n 'hxlelo',\n 'hxlole',\n 'lehxlo',\n 'lelohx',\n 'lohxle',\n 'lolehx',\n 'hllxeo',\n 'hllxoe',\n 'hllexo',\n 'hlleox',\n 'hlloxe',\n 'hlloex',\n 'hlxleo',\n 'hlxloe',\n 'hlxelo',\n 'hlxeol',\n 'hlxole',\n 'hlxoel',\n 'hlelxo',\n 'hlelox',\n 'hlexlo',\n 'hlexol',\n 'hleolx',\n 'hleoxl',\n 'hlolxe',\n 'hlolex',\n 'hloxle',\n 'hloxel',\n 'hloelx',\n 'hloexl',\n 'hllxeo',\n 'hllxoe',\n 'hllexo',\n 'hlleox',\n 'hlloxe',\n 'hlloex',\n 'hlxleo',\n 'hlxloe',\n 'hlxelo',\n 'hlxeol',\n 'hlxole',\n 'hlxoel',\n 'hlelxo',\n 'hlelox',\n 'hlexlo',\n 'hlexol',\n 'hleolx',\n 'hleoxl',\n 'hlolxe',\n 'hlolex',\n 'hloxle',\n 'hloxel',\n 'hloelx',\n 'hloexl',\n 'hxlleo',\n 'hxlloe',\n 'hxlelo',\n 'hxleol',\n 'hxlole',\n 'hxloel',\n 'hxlleo',\n 'hxlloe',\n 'hxlelo',\n 'hxleol',\n 'hxlole',\n 'hxloel',\n 'hxello',\n 'hxelol',\n 'hxello',\n 'hxelol',\n 'hxeoll',\n 'hxeoll',\n 'hxolle',\n 'hxolel',\n 'hxolle',\n 'hxolel',\n 'hxoell',\n 'hxoell',\n 'hellxo',\n 'hellox',\n 'helxlo',\n 'helxol',\n 'helolx',\n 'heloxl',\n 'hellxo',\n 'hellox',\n 'helxlo',\n 'helxol',\n 'helolx',\n 'heloxl',\n 'hexllo',\n 'hexlol',\n 'hexllo',\n 'hexlol',\n 'hexoll',\n 'hexoll',\n 'heollx',\n 'heolxl',\n 'heollx',\n 'heolxl',\n 'heoxll',\n 'heoxll',\n 'hollxe',\n 'hollex',\n 'holxle',\n 'holxel',\n 'holelx',\n 'holexl',\n 'hollxe',\n 'hollex',\n 'holxle',\n 'holxel',\n 'holelx',\n 'holexl',\n 'hoxlle',\n 'hoxlel',\n 'hoxlle',\n 'hoxlel',\n 'hoxell',\n 'hoxell',\n 'hoellx',\n 'hoelxl',\n 'hoellx',\n 'hoelxl',\n 'hoexll',\n 'hoexll',\n 'lhlxeo',\n 'lhlxoe',\n 'lhlexo',\n 'lhleox',\n 'lhloxe',\n 'lhloex',\n 'lhxleo',\n 'lhxloe',\n 'lhxelo',\n 'lhxeol',\n 'lhxole',\n 'lhxoel',\n 'lhelxo',\n 'lhelox',\n 'lhexlo',\n 'lhexol',\n 'lheolx',\n 'lheoxl',\n 'lholxe',\n 'lholex',\n 'lhoxle',\n 'lhoxel',\n 'lhoelx',\n 'lhoexl',\n 'llhxeo',\n 'llhxoe',\n 'llhexo',\n 'llheox',\n 'llhoxe',\n 'llhoex',\n 'llxheo',\n 'llxhoe',\n 'llxeho',\n 'llxeoh',\n 'llxohe',\n 'llxoeh',\n 'llehxo',\n 'llehox',\n 'llexho',\n 'llexoh',\n 'lleohx',\n 'lleoxh',\n 'llohxe',\n 'llohex',\n 'lloxhe',\n 'lloxeh',\n 'lloehx',\n 'lloexh',\n 'lxhleo',\n 'lxhloe',\n 'lxhelo',\n 'lxheol',\n 'lxhole',\n 'lxhoel',\n 'lxlheo',\n 'lxlhoe',\n 'lxleho',\n 'lxleoh',\n 'lxlohe',\n 'lxloeh',\n 'lxehlo',\n 'lxehol',\n 'lxelho',\n 'lxeloh',\n 'lxeohl',\n 'lxeolh',\n 'lxohle',\n 'lxohel',\n 'lxolhe',\n 'lxoleh',\n 'lxoehl',\n 'lxoelh',\n 'lehlxo',\n 'lehlox',\n 'lehxlo',\n 'lehxol',\n 'leholx',\n 'lehoxl',\n 'lelhxo',\n 'lelhox',\n 'lelxho',\n 'lelxoh',\n 'lelohx',\n 'leloxh',\n 'lexhlo',\n 'lexhol',\n 'lexlho',\n 'lexloh',\n 'lexohl',\n 'lexolh',\n 'leohlx',\n 'leohxl',\n 'leolhx',\n 'leolxh',\n 'leoxhl',\n 'leoxlh',\n 'lohlxe',\n 'lohlex',\n 'lohxle',\n 'lohxel',\n 'lohelx',\n 'lohexl',\n 'lolhxe',\n 'lolhex',\n 'lolxhe',\n 'lolxeh',\n 'lolehx',\n 'lolexh',\n 'loxhle',\n 'loxhel',\n 'loxlhe',\n 'loxleh',\n 'loxehl',\n 'loxelh',\n 'loehlx',\n 'loehxl',\n 'loelhx',\n 'loelxh',\n 'loexhl',\n 'loexlh',\n 'lhlxeo',\n 'lhlxoe',\n 'lhlexo',\n 'lhleox',\n 'lhloxe',\n 'lhloex',\n 'lhxleo',\n 'lhxloe',\n 'lhxelo',\n 'lhxeol',\n 'lhxole',\n 'lhxoel',\n 'lhelxo',\n 'lhelox',\n 'lhexlo',\n 'lhexol',\n 'lheolx',\n 'lheoxl',\n 'lholxe',\n 'lholex',\n 'lhoxle',\n 'lhoxel',\n 'lhoelx',\n 'lhoexl',\n 'llhxeo',\n 'llhxoe',\n 'llhexo',\n 'llheox',\n 'llhoxe',\n 'llhoex',\n 'llxheo',\n 'llxhoe',\n 'llxeho',\n 'llxeoh',\n 'llxohe',\n 'llxoeh',\n 'llehxo',\n 'llehox',\n 'llexho',\n 'llexoh',\n 'lleohx',\n 'lleoxh',\n 'llohxe',\n 'llohex',\n 'lloxhe',\n 'lloxeh',\n 'lloehx',\n 'lloexh',\n 'lxhleo',\n 'lxhloe',\n 'lxhelo',\n 'lxheol',\n 'lxhole',\n 'lxhoel',\n 'lxlheo',\n 'lxlhoe',\n 'lxleho',\n 'lxleoh',\n 'lxlohe',\n 'lxloeh',\n 'lxehlo',\n 'lxehol',\n 'lxelho',\n 'lxeloh',\n 'lxeohl',\n 'lxeolh',\n 'lxohle',\n 'lxohel',\n 'lxolhe',\n 'lxoleh',\n 'lxoehl',\n 'lxoelh',\n 'lehlxo',\n 'lehlox',\n 'lehxlo',\n 'lehxol',\n 'leholx',\n 'lehoxl',\n 'lelhxo',\n 'lelhox',\n 'lelxho',\n 'lelxoh',\n 'lelohx',\n 'leloxh',\n 'lexhlo',\n 'lexhol',\n 'lexlho',\n 'lexloh',\n 'lexohl',\n 'lexolh',\n 'leohlx',\n 'leohxl',\n 'leolhx',\n 'leolxh',\n 'leoxhl',\n 'leoxlh',\n 'lohlxe',\n 'lohlex',\n 'lohxle',\n 'lohxel',\n 'lohelx',\n 'lohexl',\n 'lolhxe',\n 'lolhex',\n 'lolxhe',\n 'lolxeh',\n 'lolehx',\n 'lolexh',\n 'loxhle',\n 'loxhel',\n 'loxlhe',\n 'loxleh',\n 'loxehl',\n 'loxelh',\n 'loehlx',\n 'loehxl',\n 'loelhx',\n 'loelxh',\n 'loexhl',\n 'loexlh',\n 'xhlleo',\n 'xhlloe',\n 'xhlelo',\n 'xhleol',\n 'xhlole',\n 'xhloel',\n 'xhlleo',\n 'xhlloe',\n 'xhlelo',\n 'xhleol',\n 'xhlole',\n 'xhloel',\n 'xhello',\n 'xhelol',\n 'xhello',\n 'xhelol',\n 'xheoll',\n 'xheoll',\n 'xholle',\n 'xholel',\n 'xholle',\n 'xholel',\n 'xhoell',\n 'xhoell',\n 'xlhleo',\n 'xlhloe',\n 'xlhelo',\n 'xlheol',\n 'xlhole',\n 'xlhoel',\n 'xllheo',\n 'xllhoe',\n 'xlleho',\n 'xlleoh',\n 'xllohe',\n 'xlloeh',\n 'xlehlo',\n 'xlehol',\n 'xlelho',\n 'xleloh',\n 'xleohl',\n 'xleolh',\n 'xlohle',\n 'xlohel',\n 'xlolhe',\n 'xloleh',\n 'xloehl',\n 'xloelh',\n 'xlhleo',\n 'xlhloe',\n 'xlhelo',\n 'xlheol',\n 'xlhole',\n 'xlhoel',\n 'xllheo',\n 'xllhoe',\n 'xlleho',\n 'xlleoh',\n 'xllohe',\n 'xlloeh',\n 'xlehlo',\n 'xlehol',\n 'xlelho',\n 'xleloh',\n 'xleohl',\n 'xleolh',\n 'xlohle',\n 'xlohel',\n 'xlolhe',\n 'xloleh',\n 'xloehl',\n 'xloelh',\n 'xehllo',\n 'xehlol',\n 'xehllo',\n 'xehlol',\n 'xeholl',\n 'xeholl',\n 'xelhlo',\n 'xelhol',\n 'xellho',\n 'xelloh',\n 'xelohl',\n 'xelolh',\n 'xelhlo',\n 'xelhol',\n 'xellho',\n 'xelloh',\n 'xelohl',\n 'xelolh',\n 'xeohll',\n 'xeohll',\n 'xeolhl',\n 'xeollh',\n 'xeolhl',\n 'xeollh',\n 'xohlle',\n 'xohlel',\n 'xohlle',\n 'xohlel',\n 'xohell',\n 'xohell',\n 'xolhle',\n 'xolhel',\n 'xollhe',\n 'xolleh',\n 'xolehl',\n 'xolelh',\n 'xolhle',\n 'xolhel',\n 'xollhe',\n 'xolleh',\n 'xolehl',\n 'xolelh',\n 'xoehll',\n 'xoehll',\n 'xoelhl',\n 'xoellh',\n 'xoelhl',\n 'xoellh',\n 'ehllxo',\n 'ehllox',\n 'ehlxlo',\n 'ehlxol',\n 'ehlolx',\n 'ehloxl',\n 'ehllxo',\n 'ehllox',\n 'ehlxlo',\n 'ehlxol',\n 'ehlolx',\n 'ehloxl',\n 'ehxllo',\n 'ehxlol',\n 'ehxllo',\n 'ehxlol',\n 'ehxoll',\n 'ehxoll',\n 'ehollx',\n 'eholxl',\n 'ehollx',\n 'eholxl',\n 'ehoxll',\n 'ehoxll',\n 'elhlxo',\n 'elhlox',\n 'elhxlo',\n 'elhxol',\n 'elholx',\n 'elhoxl',\n 'ellhxo',\n 'ellhox',\n 'ellxho',\n 'ellxoh',\n 'ellohx',\n 'elloxh',\n 'elxhlo',\n 'elxhol',\n 'elxlho',\n 'elxloh',\n 'elxohl',\n 'elxolh',\n 'elohlx',\n 'elohxl',\n 'elolhx',\n 'elolxh',\n 'eloxhl',\n 'eloxlh',\n 'elhlxo',\n 'elhlox',\n 'elhxlo',\n 'elhxol',\n 'elholx',\n 'elhoxl',\n 'ellhxo',\n 'ellhox',\n 'ellxho',\n 'ellxoh',\n 'ellohx',\n 'elloxh',\n 'elxhlo',\n 'elxhol',\n 'elxlho',\n 'elxloh',\n 'elxohl',\n 'elxolh',\n 'elohlx',\n 'elohxl',\n 'elolhx',\n 'elolxh',\n 'eloxhl',\n 'eloxlh',\n 'exhllo',\n 'exhlol',\n 'exhllo',\n 'exhlol',\n 'exholl',\n 'exholl',\n 'exlhlo',\n 'exlhol',\n 'exllho',\n 'exlloh',\n 'exlohl',\n 'exlolh',\n 'exlhlo',\n 'exlhol',\n 'exllho',\n 'exlloh',\n 'exlohl',\n 'exlolh',\n 'exohll',\n 'exohll',\n 'exolhl',\n 'exollh',\n 'exolhl',\n 'exollh',\n 'eohllx',\n 'eohlxl',\n 'eohllx',\n 'eohlxl',\n 'eohxll',\n 'eohxll',\n 'eolhlx',\n 'eolhxl',\n 'eollhx',\n 'eollxh',\n 'eolxhl',\n 'eolxlh',\n 'eolhlx',\n 'eolhxl',\n 'eollhx',\n 'eollxh',\n 'eolxhl',\n 'eolxlh',\n 'eoxhll',\n 'eoxhll',\n 'eoxlhl',\n 'eoxllh',\n 'eoxlhl',\n 'eoxllh',\n 'ohllxe',\n 'ohllex',\n 'ohlxle',\n 'ohlxel',\n 'ohlelx',\n 'ohlexl',\n 'ohllxe',\n 'ohllex',\n 'ohlxle',\n 'ohlxel',\n 'ohlelx',\n 'ohlexl',\n 'ohxlle',\n 'ohxlel',\n 'ohxlle',\n 'ohxlel',\n 'ohxell',\n 'ohxell',\n 'ohellx',\n 'ohelxl',\n 'ohellx',\n 'ohelxl',\n 'ohexll',\n 'ohexll',\n 'olhlxe',\n 'olhlex',\n 'olhxle',\n 'olhxel',\n 'olhelx',\n 'olhexl',\n 'ollhxe',\n 'ollhex',\n 'ollxhe',\n 'ollxeh',\n 'ollehx',\n 'ollexh',\n 'olxhle',\n 'olxhel',\n 'olxlhe',\n 'olxleh',\n 'olxehl',\n 'olxelh',\n 'olehlx',\n 'olehxl',\n 'olelhx',\n 'olelxh',\n 'olexhl',\n 'olexlh',\n 'olhlxe',\n 'olhlex',\n 'olhxle',\n 'olhxel',\n 'olhelx',\n 'olhexl',\n 'ollhxe',\n 'ollhex',\n 'ollxhe',\n 'ollxeh',\n 'ollehx',\n 'ollexh',\n 'olxhle',\n 'olxhel',\n 'olxlhe',\n 'olxleh',\n 'olxehl',\n 'olxelh',\n 'olehlx',\n 'olehxl',\n 'olelhx',\n 'olelxh',\n 'olexhl',\n 'olexlh',\n 'oxhlle',\n 'oxhlel',\n 'oxhlle',\n 'oxhlel',\n 'oxhell',\n 'oxhell',\n 'oxlhle',\n 'oxlhel',\n 'oxllhe',\n 'oxlleh',\n 'oxlehl',\n 'oxlelh',\n 'oxlhle',\n 'oxlhel',\n 'oxllhe',\n 'oxlleh',\n 'oxlehl',\n 'oxlelh',\n 'oxehll',\n 'oxehll',\n 'oxelhl',\n 'oxellh',\n 'oxelhl',\n 'oxellh',\n 'oehllx',\n 'oehlxl',\n 'oehllx',\n 'oehlxl',\n 'oehxll',\n 'oehxll',\n 'oelhlx',\n 'oelhxl',\n 'oellhx',\n 'oellxh',\n 'oelxhl',\n 'oelxlh',\n 'oelhlx',\n 'oelhxl',\n 'oellhx',\n 'oellxh',\n 'oelxhl',\n 'oelxlh',\n 'oexhll',\n 'oexhll',\n 'oexlhl',\n 'oexllh',\n 'oexlhl',\n 'oexllh']"
     },
     "execution_count": 6,
     "metadata": {},
     "output_type": "execute_result"
    }
   ],
   "source": [
    "transposition_cipher_brute_force_attack(transpositon_cipher_test_one_enc)"
   ],
   "metadata": {
    "collapsed": false,
    "ExecuteTime": {
     "end_time": "2025-04-21T19:51:10.344377700Z",
     "start_time": "2025-04-21T19:51:10.183476700Z"
    }
   }
  },
  {
   "cell_type": "markdown",
   "source": [
    "Por fim, a seguinte função foi estabelecida para medir os tempos de execução das funções utilizadas:"
   ],
   "metadata": {
    "collapsed": false
   }
  },
  {
   "cell_type": "code",
   "execution_count": 7,
   "outputs": [
    {
     "name": "stdout",
     "output_type": "stream",
     "text": [
      "Message being encrypted is: O Sr. e a Sra. Dursley, da Rua dos Alfeneiros, nº. 4, se orgulhavam de dizer que eram perfeitamente normais, muito bem, obrigado. Eram as últimas pessoas no mundo que se esperaria que se metessem em alguma coisa estranha ou misteriosa, porque simplesmente não compactuavam com esse tipo debobagem.\n",
      "Message being encrypted is: O Sr. e a Sra. Dursley, da Rua dos Alfeneiros, nº. 4, se orgulhavam de dizer que eram perfeitamente normais, muito bem, obrigado. Eram as últimas pessoas no mundo que se esperaria que se metessem em alguma coisa estranha ou misteriosa, porque simplesmente não compactuavam com esse tipo debobagem.\n",
      "Message being encrypted is: O Sr. e a Sra. Dursley, da Rua dos Alfeneiros, nº. 4, se orgulhavam de dizer que eram perfeitamente normais, muito bem, obrigado. Eram as últimas pessoas no mundo que se esperaria que se metessem em alguma coisa estranha ou misteriosa, porque simplesmente não compactuavam com esse tipo debobagem.\n",
      "Message being encrypted is: O Sr. e a Sra. Dursley, da Rua dos Alfeneiros, nº. 4, se orgulhavam de dizer que eram perfeitamente normais, muito bem, obrigado. Eram as últimas pessoas no mundo que se esperaria que se metessem em alguma coisa estranha ou misteriosa, porque simplesmente não compactuavam com esse tipo debobagem.\n",
      "Message being encrypted is: O Sr. e a Sra. Dursley, da Rua dos Alfeneiros, nº. 4, se orgulhavam de dizer que eram perfeitamente normais, muito bem, obrigado. Eram as últimas pessoas no mundo que se esperaria que se metessem em alguma coisa estranha ou misteriosa, porque simplesmente não compactuavam com esse tipo debobagem.\n",
      "Message being encrypted is: O Sr. e a Sra. Dursley, da Rua dos Alfeneiros, nº. 4, se orgulhavam de dizer que eram perfeitamente normais, muito bem, obrigado. Eram as últimas pessoas no mundo que se esperaria que se metessem em alguma coisa estranha ou misteriosa, porque simplesmente não compactuavam com esse tipo debobagem.\n",
      "Message being encrypted is: O Sr. e a Sra. Dursley, da Rua dos Alfeneiros, nº. 4, se orgulhavam de dizer que eram perfeitamente normais, muito bem, obrigado. Eram as últimas pessoas no mundo que se esperaria que se metessem em alguma coisa estranha ou misteriosa, porque simplesmente não compactuavam com esse tipo debobagem.\n",
      "Message being encrypted is: O Sr. e a Sra. Dursley, da Rua dos Alfeneiros, nº. 4, se orgulhavam de dizer que eram perfeitamente normais, muito bem, obrigado. Eram as últimas pessoas no mundo que se esperaria que se metessem em alguma coisa estranha ou misteriosa, porque simplesmente não compactuavam com esse tipo debobagem.\n",
      "Message being encrypted is: O Sr. e a Sra. Dursley, da Rua dos Alfeneiros, nº. 4, se orgulhavam de dizer que eram perfeitamente normais, muito bem, obrigado. Eram as últimas pessoas no mundo que se esperaria que se metessem em alguma coisa estranha ou misteriosa, porque simplesmente não compactuavam com esse tipo debobagem.\n",
      "Message being encrypted is: O Sr. e a Sra. Dursley, da Rua dos Alfeneiros, nº. 4, se orgulhavam de dizer que eram perfeitamente normais, muito bem, obrigado. Eram as últimas pessoas no mundo que se esperaria que se metessem em alguma coisa estranha ou misteriosa, porque simplesmente não compactuavam com esse tipo debobagem.\n"
     ]
    },
    {
     "data": {
      "text/plain": "{'Enc': 0.00010006427764892578, 'Brute Force': 0.0010593891143798827}"
     },
     "execution_count": 7,
     "metadata": {},
     "output_type": "execute_result"
    }
   ],
   "source": [
    "def execution_times():\n",
    "\n",
    "    import time\n",
    "    function_execution_times = {}\n",
    "\n",
    "    # Execution time for Enc\n",
    "    times = []\n",
    "    for i in range(10):\n",
    "        start = time.time()\n",
    "        encTransp('O Sr. e a Sra. Dursley, da Rua dos Alfeneiros, nº. 4, se orgulhavam de dizer que eram perfeitamente normais, muito bem, obrigado. Eram as últimas pessoas no mundo que se esperaria que se metessem em alguma coisa estranha ou misteriosa, porque simplesmente não compactuavam com esse tipo debobagem.', 6, [0, 2, 1, 3, 5, 4])\n",
    "        end = time.time()\n",
    "        times.append(end - start)\n",
    "    mean = sum(times) / 10\n",
    "    function_execution_times[\"Enc\"] = mean\n",
    "\n",
    "    # Execution time for Brute Force Attack\n",
    "    times = []\n",
    "    for i in range(10):\n",
    "        start = time.time()\n",
    "        transposition_cipher_brute_force_attack(transpositon_cipher_test_one_enc)\n",
    "        end = time.time()\n",
    "        times.append(end - start)\n",
    "    mean = sum(times) / 10\n",
    "    function_execution_times[\"Brute Force\"] = mean\n",
    "\n",
    "    return function_execution_times\n",
    "\n",
    "execution_times()"
   ],
   "metadata": {
    "collapsed": false,
    "ExecuteTime": {
     "end_time": "2025-04-21T19:51:10.347821600Z",
     "start_time": "2025-04-21T19:51:10.207043700Z"
    }
   }
  }
 ],
 "metadata": {
  "kernelspec": {
   "display_name": "Python 3",
   "language": "python",
   "name": "python3"
  },
  "language_info": {
   "codemirror_mode": {
    "name": "ipython",
    "version": 2
   },
   "file_extension": ".py",
   "mimetype": "text/x-python",
   "name": "python",
   "nbconvert_exporter": "python",
   "pygments_lexer": "ipython2",
   "version": "2.7.6"
  }
 },
 "nbformat": 4,
 "nbformat_minor": 0
}
