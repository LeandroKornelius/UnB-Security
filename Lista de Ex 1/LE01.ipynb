{
 "cells": [
  {
   "cell_type": "markdown",
   "source": [
    "# Exercício 1 - Quebrando Shift Cipher\n",
    "\n",
    "## Instruções:\n",
    "\n",
    "- Elaborar os códigos para realizar a cifra por deslocamento e a respectiva\n",
    "decifração (dica: validar para cifra de César onde k=3);\n",
    "- Elaborar os códigos que quebram a cifra por deslocamento, através de duas\n",
    "estratégias de ataques à cifra (CipherText-only):\n",
    "    - o por ataque de força bruta;\n",
    "    - o por distribuição de frequência;\n",
    "\n",
    "Descrever a viabilidade das estratégias, comparar a complexidade dos algoritmos e\n",
    "tempo de execução, onde cada técnica seria melhor aplicada etc.\n",
    "\n",
    "Utilizar a distribuição de frequência da língua portuguesa:\n",
    "https://www.dcc.fc.up.pt/~rvr/naulas/tabelasPT/\n",
    "\n",
    "## Contextualização:\n",
    "\n",
    "A criptografia é a prática de desenvolver e usar algoritmos para proteger e obscurer informações. Normalmente envolver transformar textos legíveis em textos cifrados, ou que estão em formato ilegível usando uma chave.\n",
    "\n",
    "Nesse sentido, como estaremos lidando com uma \"Shift Cipher\" que é uma criptografia simétrica, ou seja o remetente e destinatário possuem a mesma chave para criptografar e descriptografar, devemos ter os seguintes componentes:\n",
    "- Geração da chave privada - Gen -> K\n",
    "- Encriptação da mensagem M - EncK(M)\n",
    "- Decriptação da mensagem cifrada C - M = DecK(C)\n",
    "\n",
    "## Implementação:\n",
    "\n",
    "### Cifra por Deslocamento\n",
    "\n",
    "Sabendo que as \"Shift Cipher\" tratam letras como inteiros, iniciaremos a implementação declarando um dicionário que mapeia o inteiro à letra correspondente no alfabeto:"
   ],
   "metadata": {
    "collapsed": false
   }
  },
  {
   "cell_type": "code",
   "execution_count": 96,
   "outputs": [],
   "source": [
    "letters = {\n",
    "   0: 'a', 1: 'b', 2: 'c', 3: 'd', 4: 'e',\n",
    "    5: 'f', 6: 'g', 7: 'h', 8: 'i', 9: 'j',\n",
    "    10: 'k', 11: 'l', 12: 'm', 13: 'n', 14: 'o',\n",
    "    15: 'p', 16: 'q', 17: 'r', 18: 's', 19: 't',\n",
    "    20: 'u', 21: 'v', 22: 'w', 23: 'x', 24: 'y',\n",
    "    25: 'z'\n",
    "}"
   ],
   "metadata": {
    "collapsed": false,
    "ExecuteTime": {
     "end_time": "2025-04-16T22:59:23.505251200Z",
     "start_time": "2025-04-16T22:59:23.410509800Z"
    }
   }
  },
  {
   "cell_type": "markdown",
   "source": [
    "Em seguida, faz-se necessário realizar a função de Encriptação que deve transformar uma mensagem legível \"M\" em um texto cifrado \"C\" através de uma chave privada."
   ],
   "metadata": {
    "collapsed": false
   }
  },
  {
   "cell_type": "code",
   "execution_count": 97,
   "outputs": [],
   "source": [
    "def enc(m, k):\n",
    " m = m.lower()\n",
    " print(f'Message being encrypted: {m}')\n",
    " c = ''\n",
    " for char in m:\n",
    "  if char in letters.values():\n",
    "   for num, letter in letters.items():\n",
    "    if char == letter:\n",
    "     c += letters[(num + k) % len(letters)]\n",
    "  else:\n",
    "   c += char\n",
    " print(f'Message encrypted: {c}\\n')\n",
    " return c"
   ],
   "metadata": {
    "collapsed": false,
    "ExecuteTime": {
     "end_time": "2025-04-16T22:59:23.597093200Z",
     "start_time": "2025-04-16T22:59:23.425504200Z"
    }
   }
  },
  {
   "cell_type": "markdown",
   "source": [
    "No código acima, foi usado o resto da divisão por 26, pois ao somar o inteiro com o valor da chave privada, é possível obter um inteiro que não tenha uma letra correspondente no alfabeto, portanto devemos voltar às primeiras letras. Os prints do código servem para verificar se a função está funcionando propriamente e gerando a cifra. Para exemplicar o funcionamento, iremos validar para a cifra de César onde k=3."
   ],
   "metadata": {
    "collapsed": false
   }
  },
  {
   "cell_type": "code",
   "execution_count": 98,
   "outputs": [
    {
     "name": "stdout",
     "output_type": "stream",
     "text": [
      "Message being encrypted: abcdefghijklmnopqrstuvwxyz\n",
      "Message encrypted: defghijklmnopqrstuvwxyzabc\n",
      "\n",
      "Message being encrypted: cifradecesar\n",
      "Message encrypted: fliudghfhvdu\n",
      "\n",
      "Message being encrypted: o sr. e a sra. dursley, da rua dos alfeneiros, nº. 4, se orgulhavam de dizer que eram perfeitamente normais, muito bem, obrigado. eram as últimas pessoas no mundo que se esperaria que se metessem em alguma coisa estranha ou misteriosa, porque simplesmente não compactuavam com esse tipo debobagem.\n",
      "Message encrypted: w az. m i azi. lczatmg, li zci lwa itnmvmqzwa, vº. 4, am wzoctpidiu lm lqhmz ycm mziu xmznmqbiumvbm vwzuiqa, ucqbw jmu, wjzqoilw. mziu ia útbquia xmaawia vw ucvlw ycm am maxmzizqi ycm am umbmaamu mu itocui kwqai mabzivpi wc uqabmzqwai, xwzycm aquxtmaumvbm vãw kwuxikbcidiu kwu maam bqxw lmjwjiomu.\n",
      "\n"
     ]
    }
   ],
   "source": [
    "caesar_test_one = 'abcdefghijklmnopqrstuvwxyz'\n",
    "caesar_test_two = 'cifradecesar'\n",
    "\n",
    "# First paragraph of the Harry Potter book\n",
    "shift_cipher_test_one = 'O Sr. e a Sra. Dursley, da Rua dos Alfeneiros, nº. 4, se orgulhavam de dizer que eram perfeitamente normais, muito bem, obrigado. Eram as últimas pessoas no mundo que se esperaria que se metessem em alguma coisa estranha ou misteriosa, porque simplesmente não compactuavam com esse tipo debobagem.'\n",
    "\n",
    "# Encode test for Caesar in which K = 3\n",
    "caesar_test_one_enc = enc(caesar_test_one, 3)\n",
    "caesar_test_two_enc = enc(caesar_test_two, 3)\n",
    "\n",
    "# Another test with a longer text and a different K = 8 for example\n",
    "shift_cipher_test_one_enc = enc(shift_cipher_test_one, 8)"
   ],
   "metadata": {
    "collapsed": false,
    "ExecuteTime": {
     "end_time": "2025-04-16T22:59:23.600529500Z",
     "start_time": "2025-04-16T22:59:23.434059300Z"
    }
   }
  },
  {
   "cell_type": "markdown",
   "source": [
    "Assim, observa-se que a função está tendo o comportamento esperado. Entretanto, problemas com caracteres não previstos no dicionário de \"letters\" podem acarretar em comportamentos não esperados, mas visto que na distribuição de frequência da la língua portuguesa fornecida nas instruções não inclui outras letras a implementação irá funcionar para estes casos.\n",
    "\n",
    "Agora, faz necessário fazer o processo contrário. Ou seja, a decriptação onde a partir de uma mensagem ilegível obtemos a mensagem legível usando a chave privada."
   ],
   "metadata": {
    "collapsed": false
   }
  },
  {
   "cell_type": "code",
   "execution_count": 99,
   "outputs": [],
   "source": [
    "def dec(c, k):\n",
    " c = c.lower()\n",
    " print(f'Cipher being decrypted: {c}')\n",
    " m = ''\n",
    " for char in c:\n",
    "  if char in letters.values():\n",
    "   for num, letter in letters.items():\n",
    "    if char == letter:\n",
    "     m += letters[(num - k) % len(letters)]\n",
    "  else:\n",
    "   m += char\n",
    " print(f'Cipher decrypted: {m}\\n')\n",
    " return m"
   ],
   "metadata": {
    "collapsed": false,
    "ExecuteTime": {
     "end_time": "2025-04-16T22:59:23.601598700Z",
     "start_time": "2025-04-16T22:59:23.443895100Z"
    }
   }
  },
  {
   "cell_type": "markdown",
   "source": [
    "No código acima, foi usado a subtração pela chave para assim retornar à letra da mensagem. O uso do resto da divisão é análogo na função \"enc\" em função da quantidade de letras no dicionário. Para verificar o funcionamento desta função, veremos se ao usar o resultado da função de \"enc\" como cifra na função de \"dec\" se obteremos a mesma mensagem. Para ambas funções a chave deve ser a mesma e novamente usaremos a cifra de César em que k=3."
   ],
   "metadata": {
    "collapsed": false
   }
  },
  {
   "cell_type": "code",
   "execution_count": 100,
   "outputs": [
    {
     "name": "stdout",
     "output_type": "stream",
     "text": [
      "Cipher being decrypted: defghijklmnopqrstuvwxyzabc\n",
      "Cipher decrypted: abcdefghijklmnopqrstuvwxyz\n",
      "\n",
      "Cipher being decrypted: fliudghfhvdu\n",
      "Cipher decrypted: cifradecesar\n",
      "\n",
      "Cipher being decrypted: w az. m i azi. lczatmg, li zci lwa itnmvmqzwa, vº. 4, am wzoctpidiu lm lqhmz ycm mziu xmznmqbiumvbm vwzuiqa, ucqbw jmu, wjzqoilw. mziu ia útbquia xmaawia vw ucvlw ycm am maxmzizqi ycm am umbmaamu mu itocui kwqai mabzivpi wc uqabmzqwai, xwzycm aquxtmaumvbm vãw kwuxikbcidiu kwu maam bqxw lmjwjiomu.\n",
      "Cipher decrypted: o sr. e a sra. dursley, da rua dos alfeneiros, nº. 4, se orgulhavam de dizer que eram perfeitamente normais, muito bem, obrigado. eram as últimas pessoas no mundo que se esperaria que se metessem em alguma coisa estranha ou misteriosa, porque simplesmente não compactuavam com esse tipo debobagem.\n",
      "\n"
     ]
    },
    {
     "data": {
      "text/plain": "'o sr. e a sra. dursley, da rua dos alfeneiros, nº. 4, se orgulhavam de dizer que eram perfeitamente normais, muito bem, obrigado. eram as últimas pessoas no mundo que se esperaria que se metessem em alguma coisa estranha ou misteriosa, porque simplesmente não compactuavam com esse tipo debobagem.'"
     },
     "execution_count": 100,
     "metadata": {},
     "output_type": "execute_result"
    }
   ],
   "source": [
    "# Decrypt test for Caesar tests in which K = 3\n",
    "dec(caesar_test_one_enc, 3)\n",
    "dec(caesar_test_two_enc, 3)\n",
    "\n",
    "# Another test with a longer text and a different K = 8 for example\n",
    "dec(shift_cipher_test_one_enc, 8)"
   ],
   "metadata": {
    "collapsed": false,
    "ExecuteTime": {
     "end_time": "2025-04-16T22:59:23.645061100Z",
     "start_time": "2025-04-16T22:59:23.451634900Z"
    }
   }
  },
  {
   "cell_type": "markdown",
   "source": [
    "### Ataque por Força Bruta\n",
    "\n",
    "Os ataques de segurança buscam achar informações sobre a mensagem legível e/ou a chave. Sob essa ótica, o ataque por Força Bruta consiste em testar todas chaves possíveis até obter tradução inteligível para o texto claro. Suponhamos que o \"hacker\" saiba que a mensagem foi originada no Brasil, portanto terá os mesmos caractéres do alfabeto da variável já definida acima."
   ],
   "metadata": {
    "collapsed": false
   }
  },
  {
   "cell_type": "code",
   "execution_count": 101,
   "outputs": [],
   "source": [
    "def brute_force_attack(c):\n",
    " print(\"Testing all possible keys:\")\n",
    " possible_messages = []\n",
    " for k in range(len(letters)):\n",
    "  attempted_message = \"\"\n",
    "  for char in c:\n",
    "   for num, letter in letters.items():\n",
    "    if char == letter:\n",
    "     attempted_message += letters[(num - k) % len(letters)]\n",
    "  print(f'Attempted K = {k}: {attempted_message}')\n",
    "  possible_messages.append(attempted_message)\n",
    " correct_key = int(input('Type the key that has a readable message: '))\n",
    " if correct_key in range(len(letters)):\n",
    "  return possible_messages[correct_key]"
   ],
   "metadata": {
    "collapsed": false,
    "ExecuteTime": {
     "end_time": "2025-04-16T22:59:23.662086Z",
     "start_time": "2025-04-16T22:59:23.471549600Z"
    }
   }
  },
  {
   "cell_type": "markdown",
   "source": [
    "No código acima, é usado como parâmetro o texto cifrado que é o que vamos tentar traduzir de volta para uma mensagem legível através do teste de todas as possibilidades. Nesse sentido, as possíveis chaves são a quantidade de letras possíveis. Assim, devemos testar todas estas chaves até conseguirmos compreender o que está escrito. Quando isso ocorrer, significa que encontramos a mensagem. Vamos testar o ataque através de mensagem encriptada abaixo:"
   ],
   "metadata": {
    "collapsed": false
   }
  },
  {
   "cell_type": "code",
   "execution_count": 102,
   "outputs": [
    {
     "name": "stdout",
     "output_type": "stream",
     "text": [
      "Message being encrypted: cifradecesar\n",
      "Message encrypted: iolxgjkikygx\n",
      "\n",
      "The cryted message is: iolxgjkikygx\n",
      "Testing all possible keys:\n",
      "Attempted K = 0: iolxgjkikygx\n",
      "Attempted K = 1: hnkwfijhjxfw\n",
      "Attempted K = 2: gmjvehigiwev\n",
      "Attempted K = 3: fliudghfhvdu\n",
      "Attempted K = 4: ekhtcfgeguct\n",
      "Attempted K = 5: djgsbefdftbs\n",
      "Attempted K = 6: cifradecesar\n",
      "Attempted K = 7: bheqzcdbdrzq\n",
      "Attempted K = 8: agdpybcacqyp\n",
      "Attempted K = 9: zfcoxabzbpxo\n",
      "Attempted K = 10: yebnwzayaown\n",
      "Attempted K = 11: xdamvyzxznvm\n",
      "Attempted K = 12: wczluxywymul\n",
      "Attempted K = 13: vbyktwxvxltk\n",
      "Attempted K = 14: uaxjsvwuwksj\n",
      "Attempted K = 15: tzwiruvtvjri\n",
      "Attempted K = 16: syvhqtusuiqh\n",
      "Attempted K = 17: rxugpstrthpg\n",
      "Attempted K = 18: qwtforsqsgof\n",
      "Attempted K = 19: pvsenqrprfne\n",
      "Attempted K = 20: ourdmpqoqemd\n",
      "Attempted K = 21: ntqclopnpdlc\n",
      "Attempted K = 22: mspbknomockb\n",
      "Attempted K = 23: lroajmnlnbja\n",
      "Attempted K = 24: kqnzilmkmaiz\n",
      "Attempted K = 25: jpmyhkljlzhy\n",
      "The message obtained by the brute force attack is: agdpybcacqyp\n"
     ]
    }
   ],
   "source": [
    "c = enc('cifradecesar', 6)\n",
    "print(f'The cryted message is: {c}')\n",
    "\n",
    "print(f'The message obtained by the brute force attack is: {brute_force_attack(c)}')"
   ],
   "metadata": {
    "collapsed": false,
    "ExecuteTime": {
     "end_time": "2025-04-16T22:59:25.394906500Z",
     "start_time": "2025-04-16T22:59:23.477545100Z"
    }
   }
  },
  {
   "cell_type": "markdown",
   "source": [
    "### Ataque por Distribuição de Frequência\n",
    "\n",
    "Este ataque conta a frequência das letras cifradas e compara com a típica usada no português. Em seguida, usam esta frequência para ajustar o deslocamento até que a frequência do texto cifrado se alinhe com a frequência esperada. Assim, será possível descobrir a mensagem e traduzir o texto criptografado para algo legível. Para isso, iremos usar a distribuição de frequência apresentada nas intruções: https://www.dcc.fc.up.pt/~rvr/naulas/tabelasPT/"
   ],
   "metadata": {
    "collapsed": false
   }
  },
  {
   "cell_type": "code",
   "execution_count": 103,
   "outputs": [],
   "source": [
    "port_char_frequency = {\n",
    " 'a': 13.9, 'b': 1, 'c': 4.4, 'd': 5.4, 'e': 12.2,\n",
    " 'f': 1, 'g': 1.2, 'h': 0.8, 'i': 6.9, 'j': 0.4,\n",
    " 'k': 0.1, 'l': 2.8, 'm': 4.2, 'n': 5.3, 'o': 10.8,\n",
    " 'p': 2.9, 'q': 0.9, 'r': 6.9, 's': 7.9, 't': 4.9,\n",
    " 'u': 4.0, 'v': 1.3, 'w': 0.0, 'x': 0.3, 'y': 0.0,\n",
    " 'z': 0.4\n",
    "}"
   ],
   "metadata": {
    "collapsed": false,
    "ExecuteTime": {
     "end_time": "2025-04-16T22:59:25.394906500Z",
     "start_time": "2025-04-16T22:59:25.274661600Z"
    }
   }
  },
  {
   "cell_type": "markdown",
   "source": [
    "Vamos iniciar fazendo uma função que realiza a distribuição de frequência para o texto cifrado"
   ],
   "metadata": {
    "collapsed": false
   }
  },
  {
   "cell_type": "code",
   "execution_count": 104,
   "outputs": [],
   "source": [
    "def cipher_distribution(c):\n",
    " cipher_char_distribution = {}\n",
    " for char in c:\n",
    "  if char in cipher_char_distribution:\n",
    "   cipher_char_distribution[char] += 1\n",
    "  else:\n",
    "   cipher_char_distribution[char] = 1\n",
    "\n",
    " return cipher_char_distribution"
   ],
   "metadata": {
    "collapsed": false,
    "ExecuteTime": {
     "end_time": "2025-04-16T22:59:25.394906500Z",
     "start_time": "2025-04-16T22:59:25.280068600Z"
    }
   }
  },
  {
   "cell_type": "code",
   "execution_count": 105,
   "outputs": [],
   "source": [
    "def distribution_frequency_attack(c):\n",
    " print"
   ],
   "metadata": {
    "collapsed": false,
    "ExecuteTime": {
     "end_time": "2025-04-16T22:59:25.394906500Z",
     "start_time": "2025-04-16T22:59:25.288282400Z"
    }
   }
  }
 ],
 "metadata": {
  "kernelspec": {
   "display_name": "Python 3",
   "language": "python",
   "name": "python3"
  },
  "language_info": {
   "codemirror_mode": {
    "name": "ipython",
    "version": 2
   },
   "file_extension": ".py",
   "mimetype": "text/x-python",
   "name": "python",
   "nbconvert_exporter": "python",
   "pygments_lexer": "ipython2",
   "version": "2.7.6"
  }
 },
 "nbformat": 4,
 "nbformat_minor": 0
}
