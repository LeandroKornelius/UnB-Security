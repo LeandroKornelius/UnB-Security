{
 "cells": [
  {
   "cell_type": "markdown",
   "source": [
    "# Exercício 1 - Quebrando Shift Cipher\n",
    "\n",
    "## Instruções:\n",
    "\n",
    "- Elaborar os códigos para realizar a cifra por deslocamento e a respectiva\n",
    "decifração (dica: validar para cifra de César onde k=3);\n",
    "- Elaborar os códigos que quebram a cifra por deslocamento, através de duas\n",
    "estratégias de ataques à cifra (CipherText-only):\n",
    "    - o por ataque de força bruta;\n",
    "    - o por distribuição de frequência;\n",
    "\n",
    "Descrever a viabilidade das estratégias, comparar a complexidade dos algoritmos e\n",
    "tempo de execução, onde cada técnica seria melhor aplicada etc.\n",
    "\n",
    "Utilizar a distribuição de frequência da língua portuguesa:\n",
    "https://www.dcc.fc.up.pt/~rvr/naulas/tabelasPT/\n",
    "\n",
    "## Contextualização:\n",
    "\n",
    "A criptografia é a prática de desenvolver e usar algoritmos para proteger e obscurer informações. Normalmente envolver transformar textos legíveis em textos cifrados, ou que estão em formato ilegível usando uma chave.\n",
    "\n",
    "Nesse sentido, como estaremos lidando com uma \"Shift Cipher\" que é uma criptografia simétrica, ou seja o remetente e destinatário possuem a mesma chave para criptografar e descriptografar, devemos ter os seguintes componentes:\n",
    "- Geração da chave privada - Gen -> K\n",
    "- Encriptação da mensagem M - EncK(M)\n",
    "- Decriptação da mensagem cifrada C - M = DecK(C)\n",
    "\n",
    "## Implementação:\n",
    "\n",
    "Sabendo que as \"Shift Cipher\" tratam letras como inteiros, iniciaremos a implementação declarando um dicionário que mapeia o inteiro à letra correspondente no alfabeto:"
   ],
   "metadata": {
    "collapsed": false
   }
  },
  {
   "cell_type": "code",
   "execution_count": 12,
   "outputs": [],
   "source": [
    "letters = {\n",
    "   0: 'a', 1: 'b', 2: 'c', 3: 'd', 4: 'e',\n",
    "    5: 'f', 6: 'g', 7: 'h', 8: 'i', 9: 'j',\n",
    "    10: 'k', 11: 'l', 12: 'm', 13: 'n', 14: 'o',\n",
    "    15: 'p', 16: 'q', 17: 'r', 18: 's', 19: 't',\n",
    "    20: 'u', 21: 'v', 22: 'w', 23: 'x', 24: 'y',\n",
    "    25: 'z'\n",
    "}"
   ],
   "metadata": {
    "collapsed": false,
    "ExecuteTime": {
     "end_time": "2025-04-09T20:57:04.977564Z",
     "start_time": "2025-04-09T20:57:04.960842900Z"
    }
   }
  },
  {
   "cell_type": "markdown",
   "source": [
    "Em seguida, faz-se necessário realizar a função de Encriptação que deve transformar uma mensagem legível \"M\" em um texto cifrado \"C\" através de uma chave privada."
   ],
   "metadata": {
    "collapsed": false
   }
  },
  {
   "cell_type": "code",
   "execution_count": 13,
   "outputs": [],
   "source": [
    "def enc(m, k):\n",
    " print(f'Message being Encrypted: {m}')\n",
    " c = ''\n",
    " for char in m:\n",
    "  for num, letter in letters.items():\n",
    "   if char == letter:\n",
    "    print(f'The character {char} is being encrypted to {letters[(num + k) % 26]}')\n",
    "    c += letters[(num + k) % 26]\n",
    " print(f'Message Encrypted: {c}')\n",
    " return c"
   ],
   "metadata": {
    "collapsed": false,
    "ExecuteTime": {
     "end_time": "2025-04-09T20:57:04.994016500Z",
     "start_time": "2025-04-09T20:57:04.967104200Z"
    }
   }
  },
  {
   "cell_type": "markdown",
   "source": [
    "No código acima, foi usado o resto da divisão por 26, pois ao somar o inteiro com o valor da chave privada, é possível obter um inteiro que não tenha uma letra correspondente no alfabeto, portanto devemos voltar às primeiras letras. Os prints do código servem para verificar se a função está funcionando propriamente e gerando a cifra. Para exemplicar o funcionamento, iremos validar para a cifra de César onde k=3."
   ],
   "metadata": {
    "collapsed": false
   }
  },
  {
   "cell_type": "code",
   "execution_count": null,
   "outputs": [],
   "source": [
    "print(enc(\"abcdefghijklmnopqrstuvwxyz\", 3))\n",
    "print(enc(\"cifradecesar\", 3))"
   ],
   "metadata": {
    "collapsed": false
   }
  },
  {
   "cell_type": "markdown",
   "source": [
    "Assim, observa-se que a função está tendo o comportamento esperado. Entretanto, problemas com caracteres não previstos no dicionário de \"letters\" podem acarretar em comportamentos não esperados, mas visto que na distribuição de frequência da la língua portuguesa fornecida nas instruções não inclui outras letras a implementação irá funcionar para estes casos.\n",
    "\n",
    "Agora, faz necessário fazer o processo contrário. Ou seja, a decriptação onde a partir de uma mensagem ilegível obtemos a mensagem legível usando a chave privada."
   ],
   "metadata": {
    "collapsed": false
   }
  },
  {
   "cell_type": "code",
   "execution_count": 15,
   "outputs": [],
   "source": [
    "def dec(c, k):\n",
    " print(f'Cipher being Decrypted: {c}')\n",
    " m = ''\n",
    " for char in c:\n",
    "  for num, letter in letters.items():\n",
    "   if char == letter:\n",
    "    print(f'The character {char} is being decrypted back to {letters[(num - k) % 26]}')\n",
    "    m += letters[(num - k) % 26]\n",
    " print(f'Cipher Decrypted: {m}')\n",
    " return m"
   ],
   "metadata": {
    "collapsed": false,
    "ExecuteTime": {
     "end_time": "2025-04-09T20:57:05.019848700Z",
     "start_time": "2025-04-09T20:57:04.978563100Z"
    }
   }
  },
  {
   "cell_type": "markdown",
   "source": [
    "No código acima, foi usado a subtração pela chave para assim retornar à letra da mensagem. O uso do resto da divisão é análogo na função \"enc\" em função da quantidade de letras no dicionário. Para verificar o funcionamento desta função, veremos se ao usar o resultado da função de \"enc\" como cifra na função de \"dec\" se obteremos a mesma mensagem. Para ambas funções a chave deve ser a mesma e novamente usaremos a cifra de César em que k=3."
   ],
   "metadata": {
    "collapsed": false
   }
  },
  {
   "cell_type": "code",
   "execution_count": null,
   "outputs": [],
   "source": [
    "print(dec(enc(\"abcdefghijklmnopqrstuvwxyz\", 3), 3))\n",
    "print(dec(enc(\"cifradecesar\", 3), 3))"
   ],
   "metadata": {
    "collapsed": false
   }
  }
 ],
 "metadata": {
  "kernelspec": {
   "display_name": "Python 3",
   "language": "python",
   "name": "python3"
  },
  "language_info": {
   "codemirror_mode": {
    "name": "ipython",
    "version": 2
   },
   "file_extension": ".py",
   "mimetype": "text/x-python",
   "name": "python",
   "nbconvert_exporter": "python",
   "pygments_lexer": "ipython2",
   "version": "2.7.6"
  }
 },
 "nbformat": 4,
 "nbformat_minor": 0
}
