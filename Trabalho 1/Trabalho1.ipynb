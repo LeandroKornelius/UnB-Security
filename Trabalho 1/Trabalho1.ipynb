{
 "cells": [
  {
   "cell_type": "markdown",
   "source": [
    "# Trabalho 1 - Implementação do S-DES\n",
    "\n",
    "## Contextualização:\n",
    "\n",
    "Este relatório é uma das atividades pedagócicas da disciplina de Segurança Computacional. Nesta matéria somos introduzidos a importantes conceitos e aplicações do ramo de segurança na computação.\n",
    "\n",
    "Nesse sentido, este trabalho aborda um importante algoritmos de criptografia e alguns modos de operação.\n",
    "\n",
    "O S-DES será o algoritmo a ser trabalhado e veremos seu funcionamento com dois modos de operação:\n",
    "- Electronic Codebook (ECB)\n",
    "- Cipher Block Chaining (CBC)\n",
    "\n",
    "A criptografia S-DES é uma criptografia simétrica e de cifragem em blocos. É um algoritmo simplificado do DES para fins educacionais. Auxiliando, portanto, alunos a compreenderem o funcionamento do algoritmo DES através de chaves menores, funções e etapas menos complexas.\n",
    "\n",
    "## Implementação:\n",
    "\n",
    "Este notebook visa descrever brevemente a implementação enquanto permite a fácil execução de cada etapa. É importante ressaltar que o pdf G-SDES presente neste diretório foi usado para auxiliar na implementação e descrição das etapas necessárias.\n",
    "\n",
    "### Visão Geral:\n",
    "\n",
    "O algoritmo de encriptação do S-DES recebe um bloco de 8 bits e, juntamente com uma chave de 10 bits, produz um texto cifrado de 8 bits. Enquanto, o de decriptação fará o contrário, ou seja, receberá um texto de 8 bits cifrado e junto à uma chave de 10 bits retorna um texto legível de 8 bits.\n",
    "\n",
    "Veremos a seguir que este algoritmo irá necessitar de algumas funções auxiliares para o seu funcionamento. Detalharemos elas melhor em breve, mas são elas:\n",
    "1) Initial Permutation (IP)\n",
    "2) fk (Função complexa)\n",
    "3) SW (Switches)\n",
    "4) Inverse of the Inital Permutation (IP^(-1))\n",
    "\n",
    "Assim, a encriptação e decriptação usaram destas funções auxiliares para implementar o S-DES.\n",
    "\n",
    "Ademais, veremos também os modos de operação ECB e CBC e iremos testá-los com algumas entradas.\n",
    "\n",
    "## Parte 1:\n",
    "\n",
    "Para realizar a parte 1 será necessário realizar as funções auxiliares. Fazer o funcionamento da encriptação e decriptação usando o S-DES implementado. Por fim, testaremos o algoritmos com as entradas previstas na especificação do trabalho.\n",
    "\n",
    "Com isso, iniciaremos definindo algumas variáveis que serão utilizada em outros momentos do projeto como as S-Boxes usadas na função fk e as variáveis de teste as quais iremos inserir em cada etapa do algoritmo:"
   ],
   "metadata": {
    "collapsed": false
   }
  },
  {
   "cell_type": "code",
   "execution_count": 26,
   "outputs": [],
   "source": [
    "# S-Boxes necessary:\n",
    "\n",
    "s_box_0 = [\n",
    "    ['01', '00', '11', '10'],\n",
    "    ['11', '10', '01', '00'],\n",
    "    ['00', '10', '01', '11'],\n",
    "    ['11', '01', '11', '10']\n",
    "]\n",
    "\n",
    "s_box_1 = [\n",
    "    ['00', '01', '10', '11'],\n",
    "    ['10', '00', '01', '11'],\n",
    "    ['11', '00', '01', '00'],\n",
    "    ['10', '01', '00', '11']\n",
    "]\n",
    "\n",
    "# Test case variables:\n",
    "key = '1010000010'\n",
    "block_of_data = '11010111'"
   ],
   "metadata": {
    "collapsed": false,
    "ExecuteTime": {
     "end_time": "2025-05-13T03:54:30.523135400Z",
     "start_time": "2025-05-13T03:54:30.488736100Z"
    }
   }
  },
  {
   "cell_type": "markdown",
   "source": [
    "### S-DES Key Generation:\n",
    "\n",
    "Como mencionado anteriormente, o S-DES utiliza uma chave de 10 bits.\n",
    "\n",
    "Entretanto, veremos mais a frente que para cada função fk será necessário uma subchave (SK) de 8 bits. Ou seja, a partir da chave inicial de 10 bits, será necessário uma função que gere as duas subchaves necessárias.\n",
    "\n",
    "Para esta função Key Generation, serão necessárias outras duas funções auxiliares:\n",
    "- Permutação\n",
    "- Deslocamento Circular Esquerdo\n",
    "\n",
    "#### Permutation:\n",
    "\n",
    "A função de permutação abaixo possui dois parâmtros:\n",
    "- A entrada a ser permutada\n",
    "- Um vetor de permutação\n",
    "\n",
    "Nesse sentido, a função irá, a partir do vetor de permutação rearranjar os elementos recebidos na variável de entrada. Logo, irá retornar a entrada permutada de acordo com o vetor de permutação recebido.\n",
    "\n",
    "Ao realizar a função desta forma permitimos que ela seja usada para permutações de diversos tamanhos como veremos em breve."
   ],
   "metadata": {
    "collapsed": false
   }
  },
  {
   "cell_type": "code",
   "execution_count": 27,
   "outputs": [],
   "source": [
    "def permutation(entry, permutation_vector):\n",
    "    permutated_entry = ''.join([entry[i - 1] for i in permutation_vector])\n",
    "    return permutated_entry"
   ],
   "metadata": {
    "collapsed": false,
    "ExecuteTime": {
     "end_time": "2025-05-13T03:54:30.530482900Z",
     "start_time": "2025-05-13T03:54:30.494029900Z"
    }
   }
  },
  {
   "cell_type": "markdown",
   "source": [
    "#### Circular Left Shift:\n",
    "\n",
    "Esta função realiza um deslocamento circular de n bits, por isso recebe dois parâmetros:\n",
    "- A entrada a ser deslocada\n",
    "- A quantidade de bits para deslocar\n",
    "\n",
    "Como especificado na S-DES, é necessário realizar este deslocamento de n bits nas duas metades da entrada. Por isso, o seguinte código foi implementado:"
   ],
   "metadata": {
    "collapsed": false
   }
  },
  {
   "cell_type": "code",
   "execution_count": 28,
   "outputs": [],
   "source": [
    "def circular_left_shift(entry, num_bits_to_shift):\n",
    "    left_half_entry = entry[:5]\n",
    "    right_half_entry = entry[5:]\n",
    "    return left_half_entry[num_bits_to_shift:] + left_half_entry[0:num_bits_to_shift] + right_half_entry[num_bits_to_shift:] + right_half_entry[0:num_bits_to_shift]"
   ],
   "metadata": {
    "collapsed": false,
    "ExecuteTime": {
     "end_time": "2025-05-13T03:54:30.530482900Z",
     "start_time": "2025-05-13T03:54:30.498596700Z"
    }
   }
  },
  {
   "cell_type": "markdown",
   "source": [
    "Por fim, estas funções auxiliares definidas serão usadas com os devidos argumentos para a geração das duas subchaves que serão necessárias no S-DES.\n",
    "\n",
    "Dessa forma, foram inseridos prints para verificar o devido funcionamento após cada etapa da função de geração das subchaves:"
   ],
   "metadata": {
    "collapsed": false
   }
  },
  {
   "cell_type": "code",
   "execution_count": 29,
   "outputs": [
    {
     "name": "stdout",
     "output_type": "stream",
     "text": [
      "10-bit key: 1010000010\n",
      "After P10: 1000001100\n",
      "After LS-1: 0000111000\n",
      "K1 = 10100100\n",
      "After LS-2: 0010000011\n",
      "K2 = 01000011\n"
     ]
    },
    {
     "data": {
      "text/plain": "('10100100', '01000011')"
     },
     "execution_count": 29,
     "metadata": {},
     "output_type": "execute_result"
    }
   ],
   "source": [
    "def key_generation(key):\n",
    "\n",
    "    print(f'10-bit key: {key}')\n",
    "\n",
    "    # First permutation of 10 bits\n",
    "    p_10_permutation = [3, 5, 2, 7, 4, 10, 1, 9, 8, 6]\n",
    "    p_10 = permutation(key, p_10_permutation)\n",
    "    print(f'After P10: {p_10}')\n",
    "\n",
    "    # First Circular Left Shift (LS-1)\n",
    "    ls_1 = circular_left_shift(p_10, 1)\n",
    "    print(f'After LS-1: {ls_1}')\n",
    "\n",
    "    # Second permuation of 8 bits\n",
    "    p_8_permutation = [1, 2, 6, 3, 7, 4, 8, 5, 10, 9] # The first two bits aren't permutated\n",
    "    k1 = permutation(ls_1, p_8_permutation)[2:]\n",
    "    print(f'K1 = {k1}')\n",
    "\n",
    "    # LS-2 applied to LS-1\n",
    "    ls_2 = circular_left_shift(ls_1, 2)\n",
    "    print(f'After LS-2: {ls_2}')\n",
    "\n",
    "    # Third permutation of 8 bits\n",
    "    k2 = permutation(ls_2, p_8_permutation)[2:]\n",
    "    print(f'K2 = {k2}')\n",
    "\n",
    "    return k1, k2\n",
    "\n",
    "key_generation(key)"
   ],
   "metadata": {
    "collapsed": false,
    "ExecuteTime": {
     "end_time": "2025-05-13T03:54:30.551486800Z",
     "start_time": "2025-05-13T03:54:30.506676Z"
    }
   }
  },
  {
   "cell_type": "markdown",
   "source": [
    "### Initial Permuation and its Inverse:\n",
    "\n",
    "A função de permutação e sua inversa irão realizar uma permutação simples, assim a função auxiliar de permutação definida anteriormente pode ser usada para implementar estas etapas no algoritmo.\n",
    "\n",
    "### The Function fk:\n",
    "\n",
    "Considerada a etapa mais complexa do S-DES a função fk irá implementar diversas permutações e substituições.\n",
    "\n",
    "Entretanto, ela pode ser resumida com a seguinte equação em que L é o lado esquerdo da entrada e R o direito:\n",
    "\n",
    "$f_K(L, R) = \\left( L \\oplus F(R, SK),\\ R \\right)$\n",
    "\n",
    "Para uma subchave SK qualquer, o XOR será feito bit a bit entre a saída da função \"F\" com o lado esquerda da entrada L.\n",
    "\n",
    "Além disso, nota-se como o lado direito R não possui alteração na função fk.\n",
    "\n",
    "Para devida, implementação desta etapa, faz-se necessário compreender e implementar a função F.\n",
    "\n",
    "#### Função F:"
   ],
   "metadata": {
    "collapsed": false
   }
  },
  {
   "cell_type": "code",
   "execution_count": 30,
   "outputs": [
    {
     "name": "stdout",
     "output_type": "stream",
     "text": [
      "The input is a 4-bit number: 1001\n",
      "Matrix after E/P:\n",
      "1100\n",
      "0011\n",
      "Matrix after XOR:\n",
      "[0, 1, 1, 0]\n",
      "[1, 1, 0, 0]\n",
      "After S-boxes: 1001\n",
      "After P4: 0101\n"
     ]
    },
    {
     "data": {
      "text/plain": "'0101'"
     },
     "execution_count": 30,
     "metadata": {},
     "output_type": "execute_result"
    }
   ],
   "source": [
    "def f(entry, sk):\n",
    "\n",
    "    print(f'The input is a 4-bit number: {entry}')\n",
    "\n",
    "    # Expansion/Permutation operation\n",
    "    expansion_and_permutation_row_one = [4, 1, 2, 3]\n",
    "    expansion_and_permutation_row_two = [2, 3, 4, 1]\n",
    "    ep_row_one = permutation(entry, expansion_and_permutation_row_one)\n",
    "    ep_row_two = permutation(entry, expansion_and_permutation_row_two)\n",
    "    print(f'Matrix after E/P:\\n{ep_row_one}\\n{ep_row_two}')\n",
    "\n",
    "    # SW addition using XOR\n",
    "    xor_row_one = [int(n) ^ int(k) for n, k in zip(ep_row_one, sk[:4])]\n",
    "    xor_row_two = [int(n) ^ int(k) for n, k in zip(ep_row_two, sk[-4:])]\n",
    "    print(f'Matrix after XOR:\\n{xor_row_one}\\n{xor_row_two}')\n",
    "\n",
    "    # S-boxes\n",
    "    s_0_row = int(str(xor_row_one[0]) + str(xor_row_one[3]), 2)\n",
    "    s_0_column = int(str(xor_row_one[1]) + str(xor_row_one[2]), 2)\n",
    "    s_0_result = s_box_0[s_0_row][s_0_column]\n",
    "    s_1_row = int(str(xor_row_two[0]) + str(xor_row_two[3]), 2)\n",
    "    s_1_column = int(str(xor_row_two[1]) + str(xor_row_two[2]), 2)\n",
    "    s_1_result = s_box_1[s_1_row][s_1_column]\n",
    "    result = s_0_result + s_1_result\n",
    "    print(f'After S-boxes: {result}')\n",
    "\n",
    "    # Permutation of 4 bits\n",
    "    p_4_permutation = [2, 4, 3, 1]\n",
    "    p_4 = permutation(result, p_4_permutation)\n",
    "    print(f'After P4: {p_4}')\n",
    "\n",
    "    return p_4"
   ],
   "metadata": {
    "collapsed": false,
    "ExecuteTime": {
     "end_time": "2025-05-13T03:54:30.574280Z",
     "start_time": "2025-05-13T03:54:30.523135400Z"
    }
   }
  },
  {
   "cell_type": "markdown",
   "source": [
    "### Switch Funcion:\n",
    "\n",
    "A função SW realiza a alteração dos 4 bits da esquerda com os quatro da direita para que a segunda instância de fk possa operar nos outros 4 bits. Para isso, foi feita a seguinte função:"
   ],
   "metadata": {
    "collapsed": false
   }
  },
  {
   "cell_type": "code",
   "execution_count": 31,
   "outputs": [],
   "source": [
    "def switch(entry):\n",
    "    return entry[-4:] + entry[:4]"
   ],
   "metadata": {
    "collapsed": false,
    "ExecuteTime": {
     "end_time": "2025-05-13T03:54:30.577704500Z",
     "start_time": "2025-05-13T03:54:30.575191100Z"
    }
   }
  }
 ],
 "metadata": {
  "kernelspec": {
   "display_name": "Python 3",
   "language": "python",
   "name": "python3"
  },
  "language_info": {
   "codemirror_mode": {
    "name": "ipython",
    "version": 2
   },
   "file_extension": ".py",
   "mimetype": "text/x-python",
   "name": "python",
   "nbconvert_exporter": "python",
   "pygments_lexer": "ipython2",
   "version": "2.7.6"
  }
 },
 "nbformat": 4,
 "nbformat_minor": 0
}
