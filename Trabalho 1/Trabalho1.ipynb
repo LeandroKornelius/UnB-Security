{
 "cells": [
  {
   "cell_type": "markdown",
   "source": [
    "# Implementação:\n",
    "\n",
    "## Parte 1:\n",
    "\n",
    "Iniciaremos definindo os parâmetros e dados para em seguida realizar a implementação e verificar as saídas para cada etapa."
   ],
   "metadata": {
    "collapsed": false
   }
  },
  {
   "cell_type": "code",
   "execution_count": 51,
   "outputs": [],
   "source": [
    "key = '1010000010'\n",
    "block_of_data = '11010111'"
   ],
   "metadata": {
    "collapsed": false,
    "ExecuteTime": {
     "end_time": "2025-05-08T20:15:22.833543400Z",
     "start_time": "2025-05-08T20:15:22.814064800Z"
    }
   }
  },
  {
   "cell_type": "markdown",
   "source": [
    "### S-DES Key Generation:\n",
    "\n",
    "Permutation:"
   ],
   "metadata": {
    "collapsed": false
   }
  },
  {
   "cell_type": "code",
   "execution_count": 52,
   "outputs": [],
   "source": [
    "def permutation(entry, permutation_vector):\n",
    "    permutated_entry = ''.join([entry[i - 1] for i in permutation_vector])\n",
    "    return permutated_entry"
   ],
   "metadata": {
    "collapsed": false,
    "ExecuteTime": {
     "end_time": "2025-05-08T20:15:22.853652Z",
     "start_time": "2025-05-08T20:15:22.833543400Z"
    }
   }
  },
  {
   "cell_type": "markdown",
   "source": [
    "Circular left shift:"
   ],
   "metadata": {
    "collapsed": false
   }
  },
  {
   "cell_type": "code",
   "execution_count": 53,
   "outputs": [],
   "source": [
    "def circular_left_shift(entry, num_bits_to_shift):\n",
    "    left_half_entry = entry[:5]\n",
    "    right_half_entry = entry[5:]\n",
    "    return left_half_entry[num_bits_to_shift:] + left_half_entry[0:num_bits_to_shift] + right_half_entry[num_bits_to_shift:] + right_half_entry[0:num_bits_to_shift]"
   ],
   "metadata": {
    "collapsed": false,
    "ExecuteTime": {
     "end_time": "2025-05-08T20:15:22.853652Z",
     "start_time": "2025-05-08T20:15:22.833543400Z"
    }
   }
  },
  {
   "cell_type": "code",
   "execution_count": 56,
   "outputs": [
    {
     "name": "stdout",
     "output_type": "stream",
     "text": [
      "10-bit key: 1010000010\n",
      "After P10: 1000001100\n",
      "After LS-1: 0000111000\n",
      "K1 = 10100100\n",
      "After LS-2: 0010000011\n",
      "K2 = 01000011\n"
     ]
    }
   ],
   "source": [
    "def key_generation(key):\n",
    "    print(f'10-bit key: {key}')\n",
    "    # First permutation of 10 bits\n",
    "    p_10_permutation = [3, 5, 2, 7, 4, 10, 1, 9, 8, 6]\n",
    "    p_10 = permutation(key, p_10_permutation)\n",
    "    print(f'After P10: {p_10}')\n",
    "    # First Circular Left Shift (LS-1)\n",
    "    ls_1 = circular_left_shift(p_10, 1)\n",
    "    print(f'After LS-1: {ls_1}')\n",
    "    # Second permuation of 8 bits\n",
    "    p_8_permutation = [1, 2, 6, 3, 7, 4, 8, 5, 10, 9] # The first two bits aren't permutated\n",
    "    k1 = permutation(ls_1, p_8_permutation)[2:]\n",
    "    print(f'K1 = {k1}')\n",
    "    # LS-2 applied to LS-1\n",
    "    ls_2 = circular_left_shift(ls_1, 2)\n",
    "    print(f'After LS-2: {ls_2}')\n",
    "    # Third permutation of 8 bits\n",
    "    k2 = permutation(ls_2, p_8_permutation)[2:]\n",
    "    print(f'K2 = {k2}')\n",
    "\n",
    "key_generation(key)"
   ],
   "metadata": {
    "collapsed": false,
    "ExecuteTime": {
     "end_time": "2025-05-08T20:30:50.109166500Z",
     "start_time": "2025-05-08T20:30:50.106168400Z"
    }
   }
  },
  {
   "cell_type": "markdown",
   "source": [
    "Initial Permuation and its Inverse:\n",
    "\n",
    "Since there is already a permutation function defined, we can use it once we need to do the initial permuation and its inverse (IP & IP^(-1)) later in the encryption.\n",
    "\n",
    "The function fk:"
   ],
   "metadata": {
    "collapsed": false
   }
  },
  {
   "cell_type": "code",
   "execution_count": null,
   "outputs": [],
   "source": [],
   "metadata": {
    "collapsed": false
   }
  }
 ],
 "metadata": {
  "kernelspec": {
   "display_name": "Python 3",
   "language": "python",
   "name": "python3"
  },
  "language_info": {
   "codemirror_mode": {
    "name": "ipython",
    "version": 2
   },
   "file_extension": ".py",
   "mimetype": "text/x-python",
   "name": "python",
   "nbconvert_exporter": "python",
   "pygments_lexer": "ipython2",
   "version": "2.7.6"
  }
 },
 "nbformat": 4,
 "nbformat_minor": 0
}
