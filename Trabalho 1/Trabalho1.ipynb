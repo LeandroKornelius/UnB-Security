{
 "cells": [
  {
   "cell_type": "markdown",
   "metadata": {
    "collapsed": false
   },
   "source": [
    "# Trabalho 1 - Implementação do S-DES\n",
    "\n",
    "## Contextualização:\n",
    "\n",
    "Este relatório é uma das atividades pedagócicas da disciplina de Segurança Computacional. Nesta matéria somos introduzidos a importantes conceitos e aplicações do ramo de segurança na computação.\n",
    "\n",
    "Nesse sentido, este trabalho aborda um importante algoritmos de criptografia e alguns modos de operação.\n",
    "\n",
    "O S-DES será o algoritmo a ser trabalhado e veremos seu funcionamento com dois modos de operação:\n",
    "- Electronic Codebook (ECB)\n",
    "- Cipher Block Chaining (CBC)\n",
    "\n",
    "A criptografia S-DES é uma criptografia simétrica e de cifragem em blocos. É um algoritmo simplificado do DES para fins educacionais. Auxiliando, portanto, alunos a compreenderem o funcionamento do algoritmo DES através de chaves menores, funções e etapas menos complexas.\n",
    "\n",
    "## Implementação:\n",
    "\n",
    "Este notebook visa descrever brevemente a implementação enquanto permite a fácil execução de cada etapa. É importante ressaltar que o pdf G-SDES presente neste diretório foi usado para auxiliar na implementação e descrição das etapas necessárias.\n",
    "\n",
    "### Visão Geral:\n",
    "\n",
    "O algoritmo de encriptação do S-DES recebe um bloco de 8 bits e, juntamente com uma chave de 10 bits, produz um texto cifrado de 8 bits. Enquanto, o de decriptação fará o contrário, ou seja, receberá um texto de 8 bits cifrado e junto à uma chave de 10 bits retorna um texto legível de 8 bits.\n",
    "\n",
    "Veremos a seguir que este algoritmo irá necessitar de algumas funções auxiliares para o seu funcionamento. Detalharemos elas melhor em breve, mas são elas:\n",
    "1) Initial Permutation (IP)\n",
    "2) fk (Função complexa)\n",
    "3) SW (Switches)\n",
    "4) Inverse of the Inital Permutation (IP^(-1))\n",
    "\n",
    "Assim, a encriptação e decriptação usaram destas funções auxiliares para implementar o S-DES.\n",
    "\n",
    "Ademais, veremos também os modos de operação ECB e CBC e iremos testá-los com algumas entradas.\n",
    "\n",
    "## Parte 1:\n",
    "\n",
    "Para realizar a parte 1 será necessário realizar as funções auxiliares. Fazer o funcionamento da encriptação e decriptação usando o S-DES implementado. Por fim, testaremos o algoritmos com as entradas previstas na especificação do trabalho.\n",
    "\n",
    "Com isso, iniciaremos definindo algumas variáveis que serão utilizada em outros momentos do projeto como as S-Boxes usadas na função fk e as variáveis de teste as quais iremos inserir em cada etapa do algoritmo:"
   ]
  },
  {
   "cell_type": "code",
   "execution_count": 3,
   "metadata": {
    "ExecuteTime": {
     "end_time": "2025-05-13T15:28:26.155186900Z",
     "start_time": "2025-05-13T15:28:26.068009300Z"
    },
    "collapsed": false
   },
   "outputs": [],
   "source": [
    "# S-Boxes necessary:\n",
    "\n",
    "s_box_0 = [\n",
    "    ['01', '00', '11', '10'],\n",
    "    ['11', '10', '01', '00'],\n",
    "    ['00', '10', '01', '11'],\n",
    "    ['11', '01', '11', '10']\n",
    "]\n",
    "\n",
    "s_box_1 = [\n",
    "    ['00', '01', '10', '11'],\n",
    "    ['10', '00', '01', '11'],\n",
    "    ['11', '00', '01', '00'],\n",
    "    ['10', '01', '00', '11']\n",
    "]\n",
    "\n",
    "# Test case variables:\n",
    "key = '1010000010'\n",
    "block_of_data = '11010111'"
   ]
  },
  {
   "cell_type": "markdown",
   "metadata": {
    "collapsed": false
   },
   "source": [
    "### S-DES Key Generation:\n",
    "\n",
    "Como mencionado anteriormente, o S-DES utiliza uma chave de 10 bits.\n",
    "\n",
    "Entretanto, veremos mais a frente que para cada função fk será necessário uma subchave (SK) de 8 bits. Ou seja, a partir da chave inicial de 10 bits, será necessário uma função que gere as duas subchaves necessárias.\n",
    "\n",
    "Para esta função Key Generation, serão necessárias outras duas funções auxiliares:\n",
    "- Permutação\n",
    "- Deslocamento Circular Esquerdo\n",
    "\n",
    "#### Permutation:\n",
    "\n",
    "A função de permutação abaixo possui dois parâmtros:\n",
    "- A entrada a ser permutada\n",
    "- Um vetor de permutação\n",
    "\n",
    "Nesse sentido, a função irá, a partir do vetor de permutação rearranjar os elementos recebidos na variável de entrada. Logo, irá retornar a entrada permutada de acordo com o vetor de permutação recebido.\n",
    "\n",
    "Ao realizar a função desta forma permitimos que ela seja usada para permutações de diversos tamanhos como veremos em breve."
   ]
  },
  {
   "cell_type": "code",
   "execution_count": 4,
   "metadata": {
    "ExecuteTime": {
     "end_time": "2025-05-13T15:28:26.170692500Z",
     "start_time": "2025-05-13T15:28:26.071957900Z"
    },
    "collapsed": false
   },
   "outputs": [],
   "source": [
    "def permutation(entry, permutation_vector):\n",
    "    permutated_entry = ''.join([entry[i - 1] for i in permutation_vector])\n",
    "    return permutated_entry"
   ]
  },
  {
   "cell_type": "markdown",
   "metadata": {
    "collapsed": false
   },
   "source": [
    "#### Circular Left Shift:\n",
    "\n",
    "Esta função realiza um deslocamento circular de n bits, por isso recebe dois parâmetros:\n",
    "- A entrada a ser deslocada\n",
    "- A quantidade de bits para deslocar\n",
    "\n",
    "Como especificado na S-DES, é necessário realizar este deslocamento de n bits nas duas metades da entrada. Por isso, o seguinte código foi implementado:"
   ]
  },
  {
   "cell_type": "code",
   "execution_count": 5,
   "metadata": {
    "ExecuteTime": {
     "end_time": "2025-05-13T15:28:26.175693100Z",
     "start_time": "2025-05-13T15:28:26.079467900Z"
    },
    "collapsed": false
   },
   "outputs": [],
   "source": [
    "def circular_left_shift(entry, num_bits_to_shift):\n",
    "    left_half_entry = entry[:5]\n",
    "    right_half_entry = entry[5:]\n",
    "    return left_half_entry[num_bits_to_shift:] + left_half_entry[0:num_bits_to_shift] + right_half_entry[num_bits_to_shift:] + right_half_entry[0:num_bits_to_shift]"
   ]
  },
  {
   "cell_type": "markdown",
   "metadata": {
    "collapsed": false
   },
   "source": [
    "Por fim, estas funções auxiliares definidas serão usadas com os devidos argumentos para a geração das duas subchaves que serão necessárias no S-DES.\n",
    "\n",
    "Dessa forma, foram inseridos prints para verificar o devido funcionamento após cada etapa da função de geração das subchaves:"
   ]
  },
  {
   "cell_type": "code",
   "execution_count": 6,
   "metadata": {
    "ExecuteTime": {
     "end_time": "2025-05-13T15:28:26.176692300Z",
     "start_time": "2025-05-13T15:28:26.088524400Z"
    },
    "collapsed": false
   },
   "outputs": [],
   "source": [
    "def key_generation(key):\n",
    "\n",
    "    print(f'10-bit key: {key}')\n",
    "\n",
    "    # First permutation of 10 bits\n",
    "    p_10_permutation = [3, 5, 2, 7, 4, 10, 1, 9, 8, 6]\n",
    "    p_10 = permutation(key, p_10_permutation)\n",
    "    print(f'After P10: {p_10}')\n",
    "\n",
    "    # First Circular Left Shift (LS-1)\n",
    "    ls_1 = circular_left_shift(p_10, 1)\n",
    "    print(f'After LS-1: {ls_1}')\n",
    "\n",
    "    # Second permuation of 8 bits\n",
    "    p_8_permutation = [1, 2, 6, 3, 7, 4, 8, 5, 10, 9] # The first two bits aren't permutated\n",
    "    k1 = permutation(ls_1, p_8_permutation)[2:]\n",
    "    print(f'K1 = {k1}')\n",
    "\n",
    "    # LS-2 applied to LS-1\n",
    "    ls_2 = circular_left_shift(ls_1, 2)\n",
    "    print(f'After LS-2: {ls_2}')\n",
    "\n",
    "    # Third permutation of 8 bits\n",
    "    k2 = permutation(ls_2, p_8_permutation)[2:]\n",
    "    print(f'K2 = {k2}')\n",
    "\n",
    "    return k1, k2"
   ]
  },
  {
   "cell_type": "markdown",
   "metadata": {
    "collapsed": false
   },
   "source": [
    "### Initial Permuation and its Inverse:\n",
    "\n",
    "A função de permutação e sua inversa irão realizar uma permutação simples, assim a função auxiliar de permutação definida anteriormente pode ser usada para implementar estas etapas no algoritmo.\n",
    "\n",
    "### The Function fk:\n",
    "\n",
    "Considerada a etapa mais complexa do S-DES a função fk irá implementar diversas permutações e substituições.\n",
    "\n",
    "Entretanto, ela pode ser resumida com a seguinte equação em que L é o lado esquerdo da entrada e R o direito:\n",
    "\n",
    "$f_K(L, R) = \\left( L \\oplus F(R, SK),\\ R \\right)$\n",
    "\n",
    "Para uma subchave SK qualquer, o XOR será feito bit a bit entre a saída da função \"F\" com o lado esquerda da entrada L.\n",
    "\n",
    "Além disso, nota-se como o lado direito R não possui alteração na função fk.\n",
    "\n",
    "Para devida, implementação desta etapa, faz-se necessário compreender e implementar a função F.\n",
    "\n",
    "#### Função F:"
   ]
  },
  {
   "cell_type": "code",
   "execution_count": 7,
   "metadata": {
    "ExecuteTime": {
     "end_time": "2025-05-13T15:28:26.219230700Z",
     "start_time": "2025-05-13T15:28:26.096459600Z"
    },
    "collapsed": false
   },
   "outputs": [],
   "source": [
    "def f(entry, sk):\n",
    "\n",
    "    print(f'The input is a 4-bit number: {entry}')\n",
    "\n",
    "    # Expansion/Permutation operation\n",
    "    expansion_and_permutation_row_one = [4, 1, 2, 3]\n",
    "    expansion_and_permutation_row_two = [2, 3, 4, 1]\n",
    "    ep_row_one = permutation(entry, expansion_and_permutation_row_one)\n",
    "    ep_row_two = permutation(entry, expansion_and_permutation_row_two)\n",
    "    print(f'Matrix after E/P:\\n{ep_row_one}\\n{ep_row_two}')\n",
    "\n",
    "    # SW addition using XOR\n",
    "    xor_row_one = [int(n) ^ int(k) for n, k in zip(ep_row_one, sk[:4])]\n",
    "    xor_row_two = [int(n) ^ int(k) for n, k in zip(ep_row_two, sk[-4:])]\n",
    "    print(f'Matrix after XOR:\\n{xor_row_one}\\n{xor_row_two}')\n",
    "\n",
    "    # S-boxes\n",
    "    s_0_row = int(str(xor_row_one[0]) + str(xor_row_one[3]), 2)\n",
    "    s_0_column = int(str(xor_row_one[1]) + str(xor_row_one[2]), 2)\n",
    "    s_0_result = s_box_0[s_0_row][s_0_column]\n",
    "    s_1_row = int(str(xor_row_two[0]) + str(xor_row_two[3]), 2)\n",
    "    s_1_column = int(str(xor_row_two[1]) + str(xor_row_two[2]), 2)\n",
    "    s_1_result = s_box_1[s_1_row][s_1_column]\n",
    "    result = s_0_result + s_1_result\n",
    "    print(f'After S-boxes: {result}')\n",
    "\n",
    "    # Permutation of 4 bits\n",
    "    p_4_permutation = [2, 4, 3, 1]\n",
    "    p_4 = permutation(result, p_4_permutation)\n",
    "    print(f'After P4: {p_4}')\n",
    "\n",
    "    return p_4"
   ]
  },
  {
   "cell_type": "markdown",
   "metadata": {
    "collapsed": false
   },
   "source": [
    "Com isso, para finalizarmos a função fk é necessário aplicar um XOR entre o lado esquerdo e o resultado da função F. Por isso, podemos escrever a função fk como:"
   ]
  },
  {
   "cell_type": "code",
   "execution_count": 8,
   "metadata": {
    "ExecuteTime": {
     "end_time": "2025-05-13T15:28:26.219230700Z",
     "start_time": "2025-05-13T15:28:26.099971500Z"
    },
    "collapsed": false
   },
   "outputs": [],
   "source": [
    "def fk(entry, sk):\n",
    "    l = entry[:4]\n",
    "    r = entry[-4:]\n",
    "    f_result = f(r, sk)\n",
    "    xor_result = ''.join([str(int(l_elem) ^ int(f_elem)) for l_elem, f_elem in zip(l, f_result)])\n",
    "    print(f'Result after XOR of the F function and Left side: {xor_result}')\n",
    "    return xor_result + r"
   ]
  },
  {
   "cell_type": "markdown",
   "metadata": {
    "collapsed": false
   },
   "source": [
    "### Switch Funcion:\n",
    "\n",
    "A função SW realiza a alteração dos 4 bits da esquerda com os quatro da direita para que a segunda instância de fk possa operar nos outros 4 bits. Para isso, foi feita a seguinte função:"
   ]
  },
  {
   "cell_type": "code",
   "execution_count": 9,
   "metadata": {
    "ExecuteTime": {
     "end_time": "2025-05-13T15:28:26.220229Z",
     "start_time": "2025-05-13T15:28:26.107337600Z"
    },
    "collapsed": false
   },
   "outputs": [],
   "source": [
    "def switch(entry):\n",
    "    return entry[-4:] + entry[:4]"
   ]
  },
  {
   "cell_type": "markdown",
   "metadata": {
    "collapsed": false
   },
   "source": [
    "### Encryption:\n",
    "\n",
    "Agora, com todas funções auxiliares definidas podemos juntar tudo para fazer as funções de encriptação e decriptação do S-DES.\n",
    "\n",
    "Como previsto, é possível notar a ordem de execução das funções auxiliares através do código da função abaixo:"
   ]
  },
  {
   "cell_type": "code",
   "execution_count": 10,
   "metadata": {
    "ExecuteTime": {
     "end_time": "2025-05-13T15:28:26.220229Z",
     "start_time": "2025-05-13T15:28:26.109436700Z"
    },
    "collapsed": false
   },
   "outputs": [
    {
     "name": "stdout",
     "output_type": "stream",
     "text": [
      "The message being encoded is: 11010111\n",
      "10-bit key: 1010000010\n",
      "After P10: 1000001100\n",
      "After LS-1: 0000111000\n",
      "K1 = 10100100\n",
      "After LS-2: 0010000011\n",
      "K2 = 01000011\n",
      "After IP: 11011101\n",
      "The input is a 4-bit number: 1101\n",
      "Matrix after E/P:\n",
      "1110\n",
      "1011\n",
      "Matrix after XOR:\n",
      "[0, 1, 0, 0]\n",
      "[1, 1, 1, 1]\n",
      "After S-boxes: 1111\n",
      "After P4: 1111\n",
      "Result after XOR of the F function and Left side: 0010\n",
      "After fk1: 00101101\n",
      "After SW: 11010010\n",
      "The input is a 4-bit number: 0010\n",
      "Matrix after E/P:\n",
      "0001\n",
      "0100\n",
      "Matrix after XOR:\n",
      "[0, 1, 0, 1]\n",
      "[0, 1, 1, 1]\n",
      "After S-boxes: 0111\n",
      "After P4: 1110\n",
      "Result after XOR of the F function and Left side: 0011\n",
      "After fk2: 00110010\n",
      "After the Inverse of IP: 10101000\n",
      "The 8-bit ciphertext is: 10101000\n"
     ]
    },
    {
     "data": {
      "text/plain": [
       "'10101000'"
      ]
     },
     "execution_count": 10,
     "metadata": {},
     "output_type": "execute_result"
    }
   ],
   "source": [
    "def enc(plain_text, key):\n",
    "    print(f'The message being encoded is: {plain_text}')\n",
    "\n",
    "    # Subkey generation\n",
    "    k1, k2 = key_generation(key)\n",
    "\n",
    "    # IP\n",
    "    ip_permutation = [2, 6, 3, 1, 4, 8, 5, 7]\n",
    "    ip = permutation(plain_text, ip_permutation)\n",
    "    print(f'After IP: {ip}')\n",
    "\n",
    "    # First fk\n",
    "    fk1 = fk(ip, k1)\n",
    "    print(f'After fk1: {fk1}')\n",
    "\n",
    "    # SW\n",
    "    sw = switch(fk1)\n",
    "    print(f'After SW: {sw}')\n",
    "\n",
    "    # Second fk\n",
    "    fk2 = fk(sw, k2)\n",
    "    print(f'After fk2: {fk2}')\n",
    "\n",
    "    # IP ^ (-1)\n",
    "    iip_permutation = [4, 1, 3, 5, 7, 2, 8, 6]\n",
    "    iip = permutation(fk2, iip_permutation)\n",
    "    print(f'After the Inverse of IP: {iip}')\n",
    "\n",
    "    print(f'The 8-bit ciphertext is: {iip}')\n",
    "    return iip\n",
    "\n",
    "enc(block_of_data, key)"
   ]
  },
  {
   "cell_type": "markdown",
   "metadata": {
    "collapsed": false
   },
   "source": [
    "Através da execução acima, é possível observar o correto funcionamento de todas funções definidas e a função principal de encriptação produz a saída correta.\n",
    "\n",
    "### Decryption\n",
    "\n",
    "Com isso, iremos fazer agora função de decriptação em que recebemos o texto cifrado e a chave e, com isso, conseguimos ter a mensagem legível novamente."
   ]
  },
  {
   "cell_type": "code",
   "execution_count": 11,
   "metadata": {
    "ExecuteTime": {
     "end_time": "2025-05-13T15:28:26.221229200Z",
     "start_time": "2025-05-13T15:28:26.120553300Z"
    },
    "collapsed": false
   },
   "outputs": [
    {
     "name": "stdout",
     "output_type": "stream",
     "text": [
      "The message being encoded is: 11010111\n",
      "10-bit key: 1010000010\n",
      "After P10: 1000001100\n",
      "After LS-1: 0000111000\n",
      "K1 = 10100100\n",
      "After LS-2: 0010000011\n",
      "K2 = 01000011\n",
      "After IP: 11011101\n",
      "The input is a 4-bit number: 1101\n",
      "Matrix after E/P:\n",
      "1110\n",
      "1011\n",
      "Matrix after XOR:\n",
      "[0, 1, 0, 0]\n",
      "[1, 1, 1, 1]\n",
      "After S-boxes: 1111\n",
      "After P4: 1111\n",
      "Result after XOR of the F function and Left side: 0010\n",
      "After fk1: 00101101\n",
      "After SW: 11010010\n",
      "The input is a 4-bit number: 0010\n",
      "Matrix after E/P:\n",
      "0001\n",
      "0100\n",
      "Matrix after XOR:\n",
      "[0, 1, 0, 1]\n",
      "[0, 1, 1, 1]\n",
      "After S-boxes: 0111\n",
      "After P4: 1110\n",
      "Result after XOR of the F function and Left side: 0011\n",
      "After fk2: 00110010\n",
      "After the Inverse of IP: 10101000\n",
      "The 8-bit ciphertext is: 10101000\n",
      "The message being decoded is: 10101000\n",
      "10-bit key: 1010000010\n",
      "After P10: 1000001100\n",
      "After LS-1: 0000111000\n",
      "K1 = 10100100\n",
      "After LS-2: 0010000011\n",
      "K2 = 01000011\n",
      "After IP: 00110010\n",
      "The input is a 4-bit number: 0010\n",
      "Matrix after E/P:\n",
      "0001\n",
      "0100\n",
      "Matrix after XOR:\n",
      "[0, 1, 0, 1]\n",
      "[0, 1, 1, 1]\n",
      "After S-boxes: 0111\n",
      "After P4: 1110\n",
      "Result after XOR of the F function and Left side: 1101\n",
      "After fk1: 11010010\n",
      "After SW: 00101101\n",
      "The input is a 4-bit number: 1101\n",
      "Matrix after E/P:\n",
      "1110\n",
      "1011\n",
      "Matrix after XOR:\n",
      "[0, 1, 0, 0]\n",
      "[1, 1, 1, 1]\n",
      "After S-boxes: 1111\n",
      "After P4: 1111\n",
      "Result after XOR of the F function and Left side: 1101\n",
      "After fk2: 11011101\n",
      "After the Inverse of IP: 11010111\n",
      "The 8-bit plaintext is: 11010111\n"
     ]
    },
    {
     "data": {
      "text/plain": [
       "'11010111'"
      ]
     },
     "execution_count": 11,
     "metadata": {},
     "output_type": "execute_result"
    }
   ],
   "source": [
    "def dec(cipher_text, key):\n",
    "     print(f'The message being decoded is: {cipher_text}')\n",
    "\n",
    "     # Subkey generation\n",
    "     k1, k2 = key_generation(key)\n",
    "\n",
    "     # IP\n",
    "     ip_permutation = [2, 6, 3, 1, 4, 8, 5, 7]\n",
    "     ip = permutation(cipher_text, ip_permutation)\n",
    "     print(f'After IP: {ip}')\n",
    "\n",
    "     # First fk of decryption\n",
    "     fk1 = fk(ip, k2)\n",
    "     print(f'After fk1: {fk1}')\n",
    "\n",
    "     # SW\n",
    "     sw = switch(fk1)\n",
    "     print(f'After SW: {sw}')\n",
    "\n",
    "     # Second fk\n",
    "     fk2 = fk(sw, k1)\n",
    "     print(f'After fk2: {fk2}')\n",
    "\n",
    "     # IP ^ (-1)\n",
    "     iip_permutation = [4, 1, 3, 5, 7, 2, 8, 6]\n",
    "     iip = permutation(fk2, iip_permutation)\n",
    "     print(f'After the Inverse of IP: {iip}')\n",
    "\n",
    "     print(f'The 8-bit plaintext is: {iip}')\n",
    "     return iip\n",
    "\n",
    "dec(enc(block_of_data, key), key)"
   ]
  },
  {
   "cell_type": "markdown",
   "metadata": {
    "collapsed": false
   },
   "source": [
    "Usando o texto cifrado da função de encriptação é possível notar o devido funcionamento da função de decriptação visto que o resultado retornado é o blocl de dados de 8 bits original.\n",
    "\n",
    "## Parte 2\n",
    "\n",
    "Através da implementação realizada na parte 1 exploraremos sua execução com dois modos de operação de cifra de blocos.\n",
    "\n",
    "Os modos de operação permitem que o algoritmo criptográfico seja melhorado ou destinado a uma aplicação específica.\n",
    "\n",
    "Ambos modos de operação a serem desenvolvidos neste relatório serão testados igualmente, portanto iniciaremos definindo as variáveis de teste:"
   ]
  },
  {
   "cell_type": "code",
   "execution_count": 12,
   "metadata": {
    "ExecuteTime": {
     "end_time": "2025-05-13T15:28:26.221229200Z",
     "start_time": "2025-05-13T15:28:26.125566300Z"
    },
    "collapsed": false
   },
   "outputs": [],
   "source": [
    "# key is the same as before\n",
    "message = '11010111011011001011101011110000'\n",
    "iv = '01010101'"
   ]
  },
  {
   "cell_type": "markdown",
   "metadata": {
    "collapsed": false
   },
   "source": [
    "### CBC (Cipher Block Chaining):\n",
    "\n",
    "Este modo de operação é muito semelhantes com uma diferença chave: com a saída do bloco anterior é feito um XOR com o plain-text do bloco seguinte. Logo, para o primeiro bloco na encriptação, faz-se necessário ter um vetor de inicialização o qual será usado para realizar o primeiro XOR.\n",
    "\n",
    "Dessa forma, mesmo que os blocos sejam iguais, eles não irão produzir textos cifrados iguais o que dificulta reconhecimento de padrões.\n",
    "\n",
    "Além disso, este modo de operação também exige realizar \"padding\" caso a quantidade de caracteres não seja divisível por 8 bits. Assim, a implementação é:"
   ]
  },
  {
   "cell_type": "code",
   "execution_count": 13,
   "metadata": {
    "ExecuteTime": {
     "end_time": "2025-05-13T15:28:26.222228900Z",
     "start_time": "2025-05-13T15:28:26.139819900Z"
    },
    "collapsed": false
   },
   "outputs": [
    {
     "name": "stdout",
     "output_type": "stream",
     "text": [
      "The plaintext being encrypted using CBC is: 11010111011011001011101011110000\n",
      "The plaintext after padding when needed is: 11010111011011001011101011110000\n",
      "The message being encoded is: 10000010\n",
      "10-bit key: 1010000010\n",
      "After P10: 1000001100\n",
      "After LS-1: 0000111000\n",
      "K1 = 10100100\n",
      "After LS-2: 0010000011\n",
      "K2 = 01000011\n",
      "After IP: 00010001\n",
      "The input is a 4-bit number: 0001\n",
      "Matrix after E/P:\n",
      "1000\n",
      "0010\n",
      "Matrix after XOR:\n",
      "[0, 0, 1, 0]\n",
      "[0, 1, 1, 0]\n",
      "After S-boxes: 0011\n",
      "After P4: 0110\n",
      "Result after XOR of the F function and Left side: 0111\n",
      "After fk1: 01110001\n",
      "After SW: 00010111\n",
      "The input is a 4-bit number: 0111\n",
      "Matrix after E/P:\n",
      "1011\n",
      "1110\n",
      "Matrix after XOR:\n",
      "[1, 1, 1, 1]\n",
      "[1, 1, 0, 1]\n",
      "After S-boxes: 1000\n",
      "After P4: 0001\n",
      "Result after XOR of the F function and Left side: 0000\n",
      "After fk2: 00000111\n",
      "After the Inverse of IP: 00001011\n",
      "The 8-bit ciphertext is: 00001011\n",
      "The message being encoded is: 01100111\n",
      "10-bit key: 1010000010\n",
      "After P10: 1000001100\n",
      "After LS-1: 0000111000\n",
      "K1 = 10100100\n",
      "After LS-2: 0010000011\n",
      "K2 = 01000011\n",
      "After IP: 11100101\n",
      "The input is a 4-bit number: 0101\n",
      "Matrix after E/P:\n",
      "1010\n",
      "1010\n",
      "Matrix after XOR:\n",
      "[0, 0, 0, 0]\n",
      "[1, 1, 1, 0]\n",
      "After S-boxes: 0100\n",
      "After P4: 1000\n",
      "Result after XOR of the F function and Left side: 0110\n",
      "After fk1: 01100101\n",
      "After SW: 01010110\n",
      "The input is a 4-bit number: 0110\n",
      "Matrix after E/P:\n",
      "0011\n",
      "1100\n",
      "Matrix after XOR:\n",
      "[0, 1, 1, 1]\n",
      "[1, 1, 1, 1]\n",
      "After S-boxes: 0011\n",
      "After P4: 0110\n",
      "Result after XOR of the F function and Left side: 0011\n",
      "After fk2: 00110110\n",
      "After the Inverse of IP: 10101001\n",
      "The 8-bit ciphertext is: 10101001\n",
      "The message being encoded is: 00010011\n",
      "10-bit key: 1010000010\n",
      "After P10: 1000001100\n",
      "After LS-1: 0000111000\n",
      "K1 = 10100100\n",
      "After LS-2: 0010000011\n",
      "K2 = 01000011\n",
      "After IP: 00001101\n",
      "The input is a 4-bit number: 1101\n",
      "Matrix after E/P:\n",
      "1110\n",
      "1011\n",
      "Matrix after XOR:\n",
      "[0, 1, 0, 0]\n",
      "[1, 1, 1, 1]\n",
      "After S-boxes: 1111\n",
      "After P4: 1111\n",
      "Result after XOR of the F function and Left side: 1111\n",
      "After fk1: 11111101\n",
      "After SW: 11011111\n",
      "The input is a 4-bit number: 1111\n",
      "Matrix after E/P:\n",
      "1111\n",
      "1111\n",
      "Matrix after XOR:\n",
      "[1, 0, 1, 1]\n",
      "[1, 1, 0, 0]\n",
      "After S-boxes: 0101\n",
      "After P4: 1100\n",
      "Result after XOR of the F function and Left side: 0001\n",
      "After fk2: 00011111\n",
      "After the Inverse of IP: 10011011\n",
      "The 8-bit ciphertext is: 10011011\n",
      "The message being encoded is: 01101011\n",
      "10-bit key: 1010000010\n",
      "After P10: 1000001100\n",
      "After LS-1: 0000111000\n",
      "K1 = 10100100\n",
      "After LS-2: 0010000011\n",
      "K2 = 01000011\n",
      "After IP: 10100111\n",
      "The input is a 4-bit number: 0111\n",
      "Matrix after E/P:\n",
      "1011\n",
      "1110\n",
      "Matrix after XOR:\n",
      "[0, 0, 0, 1]\n",
      "[1, 0, 1, 0]\n",
      "After S-boxes: 1100\n",
      "After P4: 1001\n",
      "Result after XOR of the F function and Left side: 0011\n",
      "After fk1: 00110111\n",
      "After SW: 01110011\n",
      "The input is a 4-bit number: 0011\n",
      "Matrix after E/P:\n",
      "1001\n",
      "0110\n",
      "Matrix after XOR:\n",
      "[1, 1, 0, 1]\n",
      "[0, 1, 0, 1]\n",
      "After S-boxes: 1101\n",
      "After P4: 1101\n",
      "Result after XOR of the F function and Left side: 1010\n",
      "After fk2: 10100011\n",
      "After the Inverse of IP: 01101010\n",
      "The 8-bit ciphertext is: 01101010\n",
      "The cipher result using CBC is: 00001011101010011001101101101010\n"
     ]
    },
    {
     "data": {
      "text/plain": [
       "'00001011101010011001101101101010'"
      ]
     },
     "execution_count": 13,
     "metadata": {},
     "output_type": "execute_result"
    }
   ],
   "source": [
    "def encrypt_sdes_cbc(plain_text, key, iv):\n",
    "    print(f'The plaintext being encrypted using CBC is: {plain_text}')\n",
    "\n",
    "    # Padding with zeros\n",
    "    if len(plain_text) % 8 != 0:\n",
    "        plain_text += '0' * (8 - (len(plain_text) % 8))\n",
    "    print(f'The plaintext after padding when needed is: {plain_text}')\n",
    "\n",
    "    # Create blocks\n",
    "    blocks = [plain_text[i: i + 8] for i in range(0, len(plain_text), 8)]\n",
    "\n",
    "    # Encrypted blocks\n",
    "    enc_blocks = []\n",
    "    prev_cipher = iv\n",
    "    for block in blocks:\n",
    "        xor_result = ''.join([str(int(current) ^ int(prev)) for current, prev in zip(block, prev_cipher)])\n",
    "        enc_blocks.append(enc(xor_result, key))\n",
    "        prev_cipher = enc_blocks[-1]\n",
    "\n",
    "    # Result\n",
    "    cbc_cipher = ''.join(enc_blocks)\n",
    "    print(f'The cipher result using CBC is: {cbc_cipher}')\n",
    "    return cbc_cipher\n",
    "\n",
    "encrypt_sdes_cbc(message, key, iv)"
   ]
  },
  {
   "cell_type": "markdown",
   "metadata": {},
   "source": [
    "### ECB (Electronic Codebook):\n",
    "\n",
    "Este modo de operação funciona dividindo o texto em blocos de tamanho definido pelo algoritmo de encriptação a ser utilizado. Após a divisão, cada bloco é cifrado de forma independente, mesmo que às vezes feito de forma paralela usando a mesma chave e o mesmo algoritmo.\n",
    "\n",
    "Nesse sentido, o resultado deste modo de operação é a concatenação dos blocos cifrados.\n",
    "\n",
    "Entretanto, apresenta um problema de segurança, pois blocos idênticos de textos simples como é o caso do teste do código abaixo geram blocos idênticos de texto cifrado. Com essas igualdades, é possível expor padrões o que compromete a segurança da encriptação.\n",
    "\n",
    "Dessa forma, a função deve realizar \"padding\" caso a quantidade de caracteres não seja divisível por 8 bits e encriptar cada bloco e em seguida juntá-los, como pode ser visualizado abaixo:"
   ]
  },
  {
   "cell_type": "code",
   "execution_count": 14,
   "metadata": {},
   "outputs": [
    {
     "name": "stdout",
     "output_type": "stream",
     "text": [
      "The plaintext being encrypted using ECB is: 11010111011011001011101011110000\n",
      "The plaintext after padding when needed is: 11010111011011001011101011110000\n",
      "The message being encoded is: 11010111\n",
      "10-bit key: 1010000010\n",
      "After P10: 1000001100\n",
      "After LS-1: 0000111000\n",
      "K1 = 10100100\n",
      "After LS-2: 0010000011\n",
      "K2 = 01000011\n",
      "After IP: 11011101\n",
      "The input is a 4-bit number: 1101\n",
      "Matrix after E/P:\n",
      "1110\n",
      "1011\n",
      "Matrix after XOR:\n",
      "[0, 1, 0, 0]\n",
      "[1, 1, 1, 1]\n",
      "After S-boxes: 1111\n",
      "After P4: 1111\n",
      "Result after XOR of the F function and Left side: 0010\n",
      "After fk1: 00101101\n",
      "After SW: 11010010\n",
      "The input is a 4-bit number: 0010\n",
      "Matrix after E/P:\n",
      "0001\n",
      "0100\n",
      "Matrix after XOR:\n",
      "[0, 1, 0, 1]\n",
      "[0, 1, 1, 1]\n",
      "After S-boxes: 0111\n",
      "After P4: 1110\n",
      "Result after XOR of the F function and Left side: 0011\n",
      "After fk2: 00110010\n",
      "After the Inverse of IP: 10101000\n",
      "The 8-bit ciphertext is: 10101000\n",
      "The message being encoded is: 01101100\n",
      "10-bit key: 1010000010\n",
      "After P10: 1000001100\n",
      "After LS-1: 0000111000\n",
      "K1 = 10100100\n",
      "After LS-2: 0010000011\n",
      "K2 = 01000011\n",
      "After IP: 11100010\n",
      "The input is a 4-bit number: 0010\n",
      "Matrix after E/P:\n",
      "0001\n",
      "0100\n",
      "Matrix after XOR:\n",
      "[1, 0, 1, 1]\n",
      "[0, 0, 0, 0]\n",
      "After S-boxes: 0100\n",
      "After P4: 1000\n",
      "Result after XOR of the F function and Left side: 0110\n",
      "After fk1: 01100010\n",
      "After SW: 00100110\n",
      "The input is a 4-bit number: 0110\n",
      "Matrix after E/P:\n",
      "0011\n",
      "1100\n",
      "Matrix after XOR:\n",
      "[0, 1, 1, 1]\n",
      "[1, 1, 1, 1]\n",
      "After S-boxes: 0011\n",
      "After P4: 0110\n",
      "Result after XOR of the F function and Left side: 0100\n",
      "After fk2: 01000110\n",
      "After the Inverse of IP: 00001101\n",
      "The 8-bit ciphertext is: 00001101\n",
      "The message being encoded is: 10111010\n",
      "10-bit key: 1010000010\n",
      "After P10: 1000001100\n",
      "After LS-1: 0000111000\n",
      "K1 = 10100100\n",
      "After LS-2: 0010000011\n",
      "K2 = 01000011\n",
      "After IP: 00111011\n",
      "The input is a 4-bit number: 1011\n",
      "Matrix after E/P:\n",
      "1101\n",
      "0111\n",
      "Matrix after XOR:\n",
      "[0, 1, 1, 1]\n",
      "[0, 0, 1, 1]\n",
      "After S-boxes: 0000\n",
      "After P4: 0000\n",
      "Result after XOR of the F function and Left side: 0011\n",
      "After fk1: 00111011\n",
      "After SW: 10110011\n",
      "The input is a 4-bit number: 0011\n",
      "Matrix after E/P:\n",
      "1001\n",
      "0110\n",
      "Matrix after XOR:\n",
      "[1, 1, 0, 1]\n",
      "[0, 1, 0, 1]\n",
      "After S-boxes: 1101\n",
      "After P4: 1101\n",
      "Result after XOR of the F function and Left side: 0110\n",
      "After fk2: 01100011\n",
      "After the Inverse of IP: 00101110\n",
      "The 8-bit ciphertext is: 00101110\n",
      "The message being encoded is: 11110000\n",
      "10-bit key: 1010000010\n",
      "After P10: 1000001100\n",
      "After LS-1: 0000111000\n",
      "K1 = 10100100\n",
      "After LS-2: 0010000011\n",
      "K2 = 01000011\n",
      "After IP: 10111000\n",
      "The input is a 4-bit number: 1000\n",
      "Matrix after E/P:\n",
      "0100\n",
      "0001\n",
      "Matrix after XOR:\n",
      "[1, 1, 1, 0]\n",
      "[0, 1, 0, 1]\n",
      "After S-boxes: 1101\n",
      "After P4: 1101\n",
      "Result after XOR of the F function and Left side: 0110\n",
      "After fk1: 01101000\n",
      "After SW: 10000110\n",
      "The input is a 4-bit number: 0110\n",
      "Matrix after E/P:\n",
      "0011\n",
      "1100\n",
      "Matrix after XOR:\n",
      "[0, 1, 1, 1]\n",
      "[1, 1, 1, 1]\n",
      "After S-boxes: 0011\n",
      "After P4: 0110\n",
      "Result after XOR of the F function and Left side: 1110\n",
      "After fk2: 11100110\n",
      "After the Inverse of IP: 01101101\n",
      "The 8-bit ciphertext is: 01101101\n",
      "The cipher result using ECB is: 10101000000011010010111001101101\n"
     ]
    },
    {
     "data": {
      "text/plain": [
       "'10101000000011010010111001101101'"
      ]
     },
     "execution_count": 14,
     "metadata": {},
     "output_type": "execute_result"
    }
   ],
   "source": [
    "def encrypt_sdes_ecb(plain_text, key):\n",
    "    print(f'The plaintext being encrypted using ECB is: {plain_text}')\n",
    "\n",
    "    # Padding with zeros\n",
    "    if len(plain_text) % 8 != 0:\n",
    "        plain_text += '0' * (8 - (len(plain_text) % 8))\n",
    "    print(f'The plaintext after padding when needed is: {plain_text}')\n",
    "\n",
    "    # Create blocks\n",
    "    blocks = [plain_text[i: i + 8] for i in range(0, len(plain_text), 8)]\n",
    "\n",
    "    # Encrypted blocks\n",
    "    enc_blocks = [enc(block, key) for block in blocks]\n",
    "\n",
    "    # Result\n",
    "    ecb_cipher = ''.join(enc_blocks)\n",
    "    print(f'The cipher result using ECB is: {ecb_cipher}')\n",
    "    return ecb_cipher\n",
    "\n",
    "encrypt_sdes_ecb(message, key)"
   ]
  }
 ],
 "metadata": {
  "kernelspec": {
   "display_name": "Python 3",
   "language": "python",
   "name": "python3"
  },
  "language_info": {
   "codemirror_mode": {
    "name": "ipython",
    "version": 3
   },
   "file_extension": ".py",
   "mimetype": "text/x-python",
   "name": "python",
   "nbconvert_exporter": "python",
   "pygments_lexer": "ipython3",
   "version": "3.13.0"
  }
 },
 "nbformat": 4,
 "nbformat_minor": 0
}
